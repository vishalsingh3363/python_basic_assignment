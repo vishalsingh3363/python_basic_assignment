{
 "cells": [
  {
   "cell_type": "code",
   "execution_count": null,
   "id": "9c5a5596",
   "metadata": {},
   "outputs": [],
   "source": [
    "1. Is the Python Standard Library included with PyInputPlus?\n",
    "\n",
    "Ans-1 No python standard library do not include PyInputPlus. we can install it using pip.\n"
   ]
  },
  {
   "cell_type": "code",
   "execution_count": null,
   "id": "a708e432",
   "metadata": {},
   "outputs": [],
   "source": [
    "2. Why is PyInputPlus commonly imported with import pyinputplus as pypi?\n",
    "\n",
    "Ans-2 this is because it is difficult to write PyInputPlus again and again so for time complexity we can import it as pypi"
   ]
  },
  {
   "cell_type": "code",
   "execution_count": null,
   "id": "a92c4ffd",
   "metadata": {},
   "outputs": [],
   "source": [
    "3. How do you distinguish between inputInt() and inputFloat()?\n",
    "\n",
    "Ans-3 inputInt()- Accepts an integer value.\n",
    "    \n",
    "inputFloat()- Accepts a floating-point numeric value (decimal values)"
   ]
  },
  {
   "cell_type": "code",
   "execution_count": null,
   "id": "a8ad6c24",
   "metadata": {},
   "outputs": [],
   "source": [
    "4. Using PyInputPlus, how do you ensure that the user enters a whole number between 0 and 99?\n",
    "\n",
    "Ans-4  Using inputint function we can set the min = 0 and max =99 to check user enter number between 0 and 99"
   ]
  },
  {
   "cell_type": "code",
   "execution_count": null,
   "id": "0090c644",
   "metadata": {},
   "outputs": [],
   "source": [
    "5. What is transferred to the keyword arguments allowRegexes and blockRegexes?\n",
    "Ans-5 The allowRegexes and blockRegexes keyword arguments take a list of regular expression strings to determine what the PyInputPlus function will accept or reject as valid input."
   ]
  },
  {
   "cell_type": "code",
   "execution_count": null,
   "id": "a4ff2849",
   "metadata": {},
   "outputs": [],
   "source": [
    "6. If a blank input is entered three times, what does inputStr(limit=3) do?\n",
    "\n",
    "Ans-6  \n",
    "Blank values are not allowed.\n",
    "\n",
    "Blank values are not allowed.\n",
    "\n",
    "Blank values are not allowed.\n",
    "\n",
    "It will throw RetryLimitException exception."
   ]
  },
  {
   "cell_type": "code",
   "execution_count": null,
   "id": "c973be09",
   "metadata": {},
   "outputs": [],
   "source": [
    "7. If blank input is entered three times, what does inputStr(limit=3, default='hello') do?\n",
    "                                                             \n",
    "Ans-7  \n",
    "Blank values are not allowed.\n",
    "\n",
    "Blank values are not allowed.\n",
    "\n",
    "Blank values are not allowed.\n",
    "\n",
    "'hello'\n",
    "\n",
    "                                                    "
   ]
  },
  {
   "cell_type": "code",
   "execution_count": null,
   "id": "5afa9cc9",
   "metadata": {},
   "outputs": [],
   "source": []
  },
  {
   "cell_type": "code",
   "execution_count": null,
   "id": "8dec0e4c",
   "metadata": {},
   "outputs": [],
   "source": []
  },
  {
   "cell_type": "code",
   "execution_count": null,
   "id": "c027f5dd",
   "metadata": {},
   "outputs": [],
   "source": []
  }
 ],
 "metadata": {
  "kernelspec": {
   "display_name": "Python 3 (ipykernel)",
   "language": "python",
   "name": "python3"
  },
  "language_info": {
   "codemirror_mode": {
    "name": "ipython",
    "version": 3
   },
   "file_extension": ".py",
   "mimetype": "text/x-python",
   "name": "python",
   "nbconvert_exporter": "python",
   "pygments_lexer": "ipython3",
   "version": "3.9.12"
  }
 },
 "nbformat": 4,
 "nbformat_minor": 5
}
