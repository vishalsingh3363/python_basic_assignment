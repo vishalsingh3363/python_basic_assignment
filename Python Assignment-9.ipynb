{
 "cells": [
  {
   "cell_type": "code",
   "execution_count": null,
   "id": "6441515a",
   "metadata": {},
   "outputs": [],
   "source": [
    "1. To what does a relative path refer?\n",
    "Ans-1 Relative path is a path related to location of Present working directory (PWD).\n"
   ]
  },
  {
   "cell_type": "code",
   "execution_count": null,
   "id": "93cb06b4",
   "metadata": {},
   "outputs": [],
   "source": [
    "2. What does an absolute path start with your operating system?\n",
    "\n",
    "Ans-2 absolute path start with root folder, eg- C:\\."
   ]
  },
  {
   "cell_type": "code",
   "execution_count": null,
   "id": "8f53df05",
   "metadata": {},
   "outputs": [],
   "source": [
    "3. What do the functions os.getcwd() and os.chdir() do?\n",
    "\n",
    "Ans-3 \n",
    "os.getcwd()- Gives the PWD (present Working Directory)\n",
    "os.chdir()-  used to change the current working directory to specified path"
   ]
  },
  {
   "cell_type": "code",
   "execution_count": null,
   "id": "4d822dd7",
   "metadata": {},
   "outputs": [],
   "source": [
    "4. What are the . and .. folders?\n",
    "\n",
    "Ans-4 . is current and .. is parent folder"
   ]
  },
  {
   "cell_type": "code",
   "execution_count": null,
   "id": "5d252dd0",
   "metadata": {},
   "outputs": [],
   "source": [
    "5. In C:\\bacon\\eggs\\spam.txt, which part is the dir name, and which part is the base name?\n",
    "\n",
    "Ans-5  spam.txt is the base name  and  C:\\bacon\\eggs is dir name"
   ]
  },
  {
   "cell_type": "code",
   "execution_count": null,
   "id": "22cf7e6b",
   "metadata": {},
   "outputs": [],
   "source": [
    "6. What are the three “mode” arguments that can be passed to the open() function?\n",
    "\n",
    "Ans-6 'r' = read mode, 'w' = write mode, and 'a' = append mode"
   ]
  },
  {
   "cell_type": "code",
   "execution_count": null,
   "id": "a2d315b9",
   "metadata": {},
   "outputs": [],
   "source": [
    "7. What happens if an existing file is opened in write mode?\n",
    "\n",
    "Ans-7 If file is open in write mode then we can edit the text inside the file."
   ]
  },
  {
   "cell_type": "code",
   "execution_count": null,
   "id": "2611359c",
   "metadata": {},
   "outputs": [],
   "source": [
    "8. How do you tell the difference between read() and readlines()?\n",
    "\n",
    "Ans-8 read()- will give whole paragraph in single string and readlines() give whole paragraph in list of string form"
   ]
  },
  {
   "cell_type": "code",
   "execution_count": null,
   "id": "3787b42e",
   "metadata": {},
   "outputs": [],
   "source": [
    "9. What data structure does a shelf value resemble?\n",
    "\n",
    "Ans-9 it resemble dictionary like object."
   ]
  },
  {
   "cell_type": "code",
   "execution_count": null,
   "id": "cd724d52",
   "metadata": {},
   "outputs": [],
   "source": []
  },
  {
   "cell_type": "code",
   "execution_count": null,
   "id": "93841757",
   "metadata": {},
   "outputs": [],
   "source": []
  }
 ],
 "metadata": {
  "kernelspec": {
   "display_name": "Python 3 (ipykernel)",
   "language": "python",
   "name": "python3"
  },
  "language_info": {
   "codemirror_mode": {
    "name": "ipython",
    "version": 3
   },
   "file_extension": ".py",
   "mimetype": "text/x-python",
   "name": "python",
   "nbconvert_exporter": "python",
   "pygments_lexer": "ipython3",
   "version": "3.9.12"
  }
 },
 "nbformat": 4,
 "nbformat_minor": 5
}
