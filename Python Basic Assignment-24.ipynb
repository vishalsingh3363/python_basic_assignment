{
 "cells": [
  {
   "cell_type": "raw",
   "id": "ce9e429a",
   "metadata": {},
   "source": [
    "#1. What is the relationship between def statements and lambda expressions ?\n",
    "\n",
    "Ans-1\n",
    "Lambda function - in lambda function we can perform only limited number of operation\n",
    "\n",
    "def statement- in this we can  perform any number of execution statements inside the function definition"
   ]
  },
  {
   "cell_type": "raw",
   "id": "108c5023",
   "metadata": {},
   "source": [
    "#2. What is the benefit of lambda?\n",
    "Ans-2 It reduces the length of code"
   ]
  },
  {
   "cell_type": "raw",
   "id": "d83dd3aa",
   "metadata": {},
   "source": [
    "#3. Compare and contrast map, filter, and reduce.\n",
    "Ans-3 \n",
    "map()- This function iterates through all items in the given iterable and executes the function we passed as an argument on each of them.\n",
    "\n",
    "filter()- it takes function object and an iterable and creates a new list.\n",
    "\n",
    "reduce()- It does not return a new list based on the function and iterable we've passed. Instead, it returns a single value."
   ]
  },
  {
   "cell_type": "raw",
   "id": "e572ee82",
   "metadata": {},
   "source": [
    "#4. What are function annotations, and how are they used?\n",
    "\n",
    "Ans-4 Function annotations are arbitrary python expressions that are associated with various part of functions. \n",
    " these are use to to add arbitrary metadata to function parameters and return value."
   ]
  },
  {
   "cell_type": "raw",
   "id": "66b422af",
   "metadata": {},
   "source": [
    "#5. What are recursive functions, and how are they used?\n",
    "Ans-5\n",
    "A recursive function is a function in code that refers to itself for execution. it is used to solve computer problems by creating a function that calls itself until your program achieves the desired result."
   ]
  },
  {
   "cell_type": "raw",
   "id": "f312a7ae",
   "metadata": {},
   "source": [
    "#6. What are some general design guidelines for coding functions?\n",
    "\n",
    "Ans-6 some general design guidelines for coding functions are :-\n",
    "Safe: It can be used without causing harm.\n",
    "Secure: It can’t be hacked.\n",
    "Reliable: It functions as it should, every time.\n",
    "Testable: It can be tested at the code level.\n",
    "Maintainable: It can be maintained, even as your codebase grows.\n",
    "Portable: It works the same in every environment."
   ]
  },
  {
   "cell_type": "raw",
   "id": "19bc4b7d",
   "metadata": {},
   "source": [
    "#7. Name three or more ways that functions can communicate results to a caller.\n",
    "Ans-7 Call by Value, Call by Reference, Call by function\n"
   ]
  }
 ],
 "metadata": {
  "kernelspec": {
   "display_name": "Python 3 (ipykernel)",
   "language": "python",
   "name": "python3"
  },
  "language_info": {
   "codemirror_mode": {
    "name": "ipython",
    "version": 3
   },
   "file_extension": ".py",
   "mimetype": "text/x-python",
   "name": "python",
   "nbconvert_exporter": "python",
   "pygments_lexer": "ipython3",
   "version": "3.9.12"
  }
 },
 "nbformat": 4,
 "nbformat_minor": 5
}
