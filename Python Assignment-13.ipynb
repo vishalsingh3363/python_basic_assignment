{
 "cells": [
  {
   "cell_type": "code",
   "execution_count": null,
   "id": "6ce32161",
   "metadata": {},
   "outputs": [],
   "source": [
    "1. What advantages do Excel spreadsheets have over CSV spreadsheets?\n",
    "\n",
    "Ans-1 Advantages do Excel spreadsheets have over CSV spreadsheets :-\n",
    "A) Excel spreadsheet stores data as well as supporting operations on data, while CSV only stores data.\n",
    "B) We can easily import excel into SQL but we cannot easily import CSV into SQL\n"
   ]
  },
  {
   "cell_type": "code",
   "execution_count": null,
   "id": "cac48832",
   "metadata": {},
   "outputs": [],
   "source": [
    "2.What do you pass to csv.reader() and csv.writer() to create reader and writer objects?\n",
    "\n",
    "Ans-2 Pass file name "
   ]
  },
  {
   "cell_type": "code",
   "execution_count": null,
   "id": "7da2f7b2",
   "metadata": {},
   "outputs": [],
   "source": [
    "3. What modes do File objects for reader and writer objects need to be opened in?\n",
    "\n",
    "Ans-3 'rb' (read binary)- for read\n",
    "'wb' (write binary)- for write"
   ]
  },
  {
   "cell_type": "code",
   "execution_count": null,
   "id": "30ee345a",
   "metadata": {},
   "outputs": [],
   "source": [
    "4. What method takes a list argument and writes it to a CSV file?\n",
    "\n",
    "Ans-4 writerow()"
   ]
  },
  {
   "cell_type": "code",
   "execution_count": null,
   "id": "b2faa17a",
   "metadata": {},
   "outputs": [],
   "source": [
    "5. What do the keyword arguments delimiter and line terminator do?\n",
    "\n",
    "Ans-5 use to change the strig use to seperate cell in rows and line terminator changes the string use to seperate rows "
   ]
  },
  {
   "cell_type": "code",
   "execution_count": null,
   "id": "8ce8b79b",
   "metadata": {},
   "outputs": [],
   "source": [
    "6. What function takes a string of JSON data and returns a Python data structure?\n",
    "\n",
    "Ans-6 json.loads()"
   ]
  },
  {
   "cell_type": "code",
   "execution_count": null,
   "id": "c5654a4b",
   "metadata": {},
   "outputs": [],
   "source": [
    "7. What function takes a Python data structure and returns a string of JSON data?\n",
    "\n",
    "Ans-7 json.dumps()"
   ]
  },
  {
   "cell_type": "code",
   "execution_count": null,
   "id": "5df04b4f",
   "metadata": {},
   "outputs": [],
   "source": []
  }
 ],
 "metadata": {
  "kernelspec": {
   "display_name": "Python 3 (ipykernel)",
   "language": "python",
   "name": "python3"
  },
  "language_info": {
   "codemirror_mode": {
    "name": "ipython",
    "version": 3
   },
   "file_extension": ".py",
   "mimetype": "text/x-python",
   "name": "python",
   "nbconvert_exporter": "python",
   "pygments_lexer": "ipython3",
   "version": "3.9.12"
  }
 },
 "nbformat": 4,
 "nbformat_minor": 5
}
