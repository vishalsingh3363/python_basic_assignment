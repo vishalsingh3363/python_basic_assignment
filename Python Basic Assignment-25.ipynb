{
 "cells": [
  {
   "cell_type": "code",
   "execution_count": null,
   "id": "4c785842",
   "metadata": {},
   "outputs": [],
   "source": [
    "#1) . What is the difference between enclosing a list comprehension in square brackets and parentheses?\n",
    "\n",
    "Ans-1 he other main difference is that a tuple is hashable, meaning that you can use it as a key to a dictionary, among other things. "
   ]
  },
  {
   "cell_type": "code",
   "execution_count": null,
   "id": "f613a2cb",
   "metadata": {},
   "outputs": [],
   "source": [
    "#2) What is the relationship between generators and iterators?\n",
    "\n",
    "Ans-2 Generator instead of returning rsult"
   ]
  },
  {
   "cell_type": "code",
   "execution_count": null,
   "id": "7b5ebe49",
   "metadata": {},
   "outputs": [],
   "source": [
    "#3) What are the signs that a function is a generator function?\n",
    "\n",
    "Ans-3 def simpleGeneratorFun():"
   ]
  },
  {
   "cell_type": "code",
   "execution_count": null,
   "id": "7b8ee276",
   "metadata": {},
   "outputs": [],
   "source": [
    "#4) What is the purpose of a yield statement?\n",
    "\n",
    "Ans-4 yield statement keeps on delivering the result and also take less space compare to other"
   ]
  },
  {
   "cell_type": "code",
   "execution_count": null,
   "id": "f7b9e35d",
   "metadata": {},
   "outputs": [],
   "source": [
    "#5) What is the relationship between map calls and list comprehensions? Make a comparison and\n",
    "contrast between the two.\n",
    "\n",
    "Ans-5\n",
    "\n",
    "map() function returns a map object(which is an iterator).\n",
    "\n",
    "List() follows the form of the mathematical set-builder notation. It provide a concise way to create lists."
   ]
  },
  {
   "cell_type": "code",
   "execution_count": null,
   "id": "0e62c6fd",
   "metadata": {},
   "outputs": [],
   "source": []
  }
 ],
 "metadata": {
  "kernelspec": {
   "display_name": "Python 3 (ipykernel)",
   "language": "python",
   "name": "python3"
  },
  "language_info": {
   "codemirror_mode": {
    "name": "ipython",
    "version": 3
   },
   "file_extension": ".py",
   "mimetype": "text/x-python",
   "name": "python",
   "nbconvert_exporter": "python",
   "pygments_lexer": "ipython3",
   "version": "3.9.12"
  }
 },
 "nbformat": 4,
 "nbformat_minor": 5
}
