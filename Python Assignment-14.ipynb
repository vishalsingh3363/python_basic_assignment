{
 "cells": [
  {
   "cell_type": "code",
   "execution_count": null,
   "id": "55bacac7",
   "metadata": {},
   "outputs": [],
   "source": [
    "1. What does RGBA stand for?\n",
    "\n",
    "Ans-1 Reg Green Blue Alpha"
   ]
  },
  {
   "cell_type": "code",
   "execution_count": null,
   "id": "42a6f637",
   "metadata": {},
   "outputs": [],
   "source": [
    "2. From the Pillow module, how do you get the RGBA value of any images?\n",
    "\n",
    "Ans-2 \n",
    "\n",
    ".first install pillow by running- !pip install Pillow\n",
    ".then import image from PIL\n",
    ".A = Image.open(‘name of image.png’)\n",
    " rgba = img.convert(\"RGBA\")\n",
    " value = rgba.getdata()"
   ]
  },
  {
   "cell_type": "code",
   "execution_count": null,
   "id": "6af2d435",
   "metadata": {},
   "outputs": [],
   "source": [
    "3. What is a box tuple, and how does it work?\n",
    "Ans-3 box tuple provide read only access to tuple,tuples are used to store multiple items in a single variable.\n",
    "\n"
   ]
  },
  {
   "cell_type": "code",
   "execution_count": null,
   "id": "38a36043",
   "metadata": {},
   "outputs": [],
   "source": [
    "4. Use your image and load in notebook then, How can you find out the width and height of an\n",
    "Image object?\n",
    "\n",
    "Ans-4 we can find height of image by image.height and image.weight"
   ]
  },
  {
   "cell_type": "code",
   "execution_count": null,
   "id": "8f7d2e25",
   "metadata": {},
   "outputs": [],
   "source": [
    "5. What method would you call to get Image object for a 100×100 image, excluding the lower-left\n",
    "quarter of it?\n",
    "\n",
    "Ans-5 use resize()"
   ]
  },
  {
   "cell_type": "code",
   "execution_count": null,
   "id": "c96deab8",
   "metadata": {},
   "outputs": [],
   "source": [
    "6. After making changes to an Image object, how could you save it as an image file?\n",
    "\n",
    "Ans-6  image.save(path of file + namr of file +'.jpeg') "
   ]
  },
  {
   "cell_type": "code",
   "execution_count": null,
   "id": "ec176c03",
   "metadata": {},
   "outputs": [],
   "source": [
    "7. What module contains Pillow’s shape-drawing code?\n",
    "\n",
    "Ans-7 ImageDraw"
   ]
  },
  {
   "cell_type": "code",
   "execution_count": null,
   "id": "27e6ef09",
   "metadata": {},
   "outputs": [],
   "source": [
    "8. Image objects do not have drawing methods. What kind of object does? How do you get this kind\n",
    "of object?\n",
    "\n",
    "Ans-8 import begindrawing()"
   ]
  },
  {
   "cell_type": "code",
   "execution_count": null,
   "id": "0f8625c8",
   "metadata": {},
   "outputs": [],
   "source": []
  }
 ],
 "metadata": {
  "kernelspec": {
   "display_name": "Python 3 (ipykernel)",
   "language": "python",
   "name": "python3"
  },
  "language_info": {
   "codemirror_mode": {
    "name": "ipython",
    "version": 3
   },
   "file_extension": ".py",
   "mimetype": "text/x-python",
   "name": "python",
   "nbconvert_exporter": "python",
   "pygments_lexer": "ipython3",
   "version": "3.9.12"
  }
 },
 "nbformat": 4,
 "nbformat_minor": 5
}
