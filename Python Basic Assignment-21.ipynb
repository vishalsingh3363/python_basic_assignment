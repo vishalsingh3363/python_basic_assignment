{
 "cells": [
  {
   "cell_type": "code",
   "execution_count": 4,
   "id": "730c9614",
   "metadata": {},
   "outputs": [
    {
     "name": "stdout",
     "output_type": "stream",
     "text": [
      "Requirement already satisfied: DateTime in ./anaconda3/lib/python3.9/site-packages (4.4)\n",
      "Requirement already satisfied: pytz in ./anaconda3/lib/python3.9/site-packages (from DateTime) (2021.3)\n",
      "Requirement already satisfied: zope.interface in ./anaconda3/lib/python3.9/site-packages (from DateTime) (5.4.0)\n",
      "Requirement already satisfied: setuptools in ./anaconda3/lib/python3.9/site-packages (from zope.interface->DateTime) (61.2.0)\n"
     ]
    },
    {
     "ename": "ImportError",
     "evalue": "cannot import name 'date' from 'DateTime' (/home/v4rdaan/anaconda3/lib/python3.9/site-packages/DateTime/__init__.py)",
     "output_type": "error",
     "traceback": [
      "\u001b[0;31m---------------------------------------------------------------------------\u001b[0m",
      "\u001b[0;31mImportError\u001b[0m                               Traceback (most recent call last)",
      "Input \u001b[0;32mIn [4]\u001b[0m, in \u001b[0;36m<cell line: 4>\u001b[0;34m()\u001b[0m\n\u001b[1;32m      1\u001b[0m \u001b[38;5;66;03m#1. Add the current date to the text file today.txt as a string.\u001b[39;00m\n\u001b[1;32m      2\u001b[0m get_ipython()\u001b[38;5;241m.\u001b[39msystem(\u001b[38;5;124m'\u001b[39m\u001b[38;5;124mpip install DateTime\u001b[39m\u001b[38;5;124m'\u001b[39m)\n\u001b[0;32m----> 4\u001b[0m \u001b[38;5;28;01mfrom\u001b[39;00m \u001b[38;5;21;01mDateTime\u001b[39;00m \u001b[38;5;28;01mimport\u001b[39;00m date\n\u001b[1;32m      5\u001b[0m a\u001b[38;5;241m=\u001b[39m date\u001b[38;5;241m.\u001b[39mtoday()\n\u001b[1;32m      6\u001b[0m a_str\u001b[38;5;241m=\u001b[39m a\u001b[38;5;241m.\u001b[39misoformat()\n",
      "\u001b[0;31mImportError\u001b[0m: cannot import name 'date' from 'DateTime' (/home/v4rdaan/anaconda3/lib/python3.9/site-packages/DateTime/__init__.py)"
     ]
    }
   ],
   "source": [
    "#1. Add the current date to the text file today.txt as a string.\n",
    "!pip install DateTime\n",
    "\n",
    "from DateTime import date\n",
    "a= date.today()\n",
    "a_str= a.isoformat()\n",
    "file= open('today', 'wt')\n",
    "print(a_str, file)"
   ]
  },
  {
   "cell_type": "code",
   "execution_count": 12,
   "id": "85405822",
   "metadata": {},
   "outputs": [
    {
     "data": {
      "text/plain": [
       "''"
      ]
     },
     "execution_count": 12,
     "metadata": {},
     "output_type": "execute_result"
    }
   ],
   "source": [
    "#2. Read the text file today.txt into the string today_string\n",
    "file= open('today', 'rt')\n",
    "today_str=file.read()\n",
    "today_str"
   ]
  },
  {
   "cell_type": "code",
   "execution_count": 22,
   "id": "7b382d90",
   "metadata": {},
   "outputs": [
    {
     "ename": "ImportError",
     "evalue": "cannot import name 'date' from 'DateTime' (/home/v4rdaan/anaconda3/lib/python3.9/site-packages/DateTime/__init__.py)",
     "output_type": "error",
     "traceback": [
      "\u001b[0;31m---------------------------------------------------------------------------\u001b[0m",
      "\u001b[0;31mImportError\u001b[0m                               Traceback (most recent call last)",
      "Input \u001b[0;32mIn [22]\u001b[0m, in \u001b[0;36m<cell line: 2>\u001b[0;34m()\u001b[0m\n\u001b[1;32m      1\u001b[0m \u001b[38;5;66;03m#3. Parse the date from today_string.\u001b[39;00m\n\u001b[0;32m----> 2\u001b[0m \u001b[38;5;28;01mfrom\u001b[39;00m \u001b[38;5;21;01mDateTime\u001b[39;00m \u001b[38;5;28;01mimport\u001b[39;00m date\n\u001b[1;32m      3\u001b[0m form\u001b[38;5;241m=\u001b[39m \u001b[38;5;124m'\u001b[39m\u001b[38;5;132;01m%d\u001b[39;00m\u001b[38;5;124m-\u001b[39m\u001b[38;5;124m%\u001b[39m\u001b[38;5;124mm-\u001b[39m\u001b[38;5;124m%\u001b[39m\u001b[38;5;124mY\u001b[39m\u001b[38;5;130;01m\\n\u001b[39;00m\u001b[38;5;124m'\u001b[39m\n\u001b[1;32m      4\u001b[0m date\u001b[38;5;241m.\u001b[39mstrptime(today_str,form)\n",
      "\u001b[0;31mImportError\u001b[0m: cannot import name 'date' from 'DateTime' (/home/v4rdaan/anaconda3/lib/python3.9/site-packages/DateTime/__init__.py)"
     ]
    }
   ],
   "source": [
    "#3. Parse the date from today_string.\n",
    "from DateTime import date\n",
    "form= '%d-%m-%Y\\n'\n",
    "date.strptime(today_str,form)"
   ]
  },
  {
   "cell_type": "code",
   "execution_count": 17,
   "id": "e1f9c685",
   "metadata": {},
   "outputs": [
    {
     "data": {
      "text/plain": [
       "['Untitled6.ipynb',\n",
       " '.gconf',\n",
       " 'Python Assignment-4.ipynb',\n",
       " 'Python Assignment-6.ipynb',\n",
       " 'car_data',\n",
       " 'Templates',\n",
       " 'Python Assignment-2.ipynb',\n",
       " 'Python Assignment-10.ipynb',\n",
       " '.java',\n",
       " '.jupyter',\n",
       " '.ipython',\n",
       " '.gvfs',\n",
       " 'Untitled3.ipynb',\n",
       " 'books1.db',\n",
       " '.icons',\n",
       " '.config',\n",
       " 'Python Assignment-3.ipynb',\n",
       " 'Python Assignment 1.ipynb',\n",
       " '.xsession-errors.old',\n",
       " 'book.csv',\n",
       " 'Downloads',\n",
       " '.cache',\n",
       " 'Untitled2.ipynb',\n",
       " 'Untitled8.ipynb',\n",
       " '.Xauthority',\n",
       " '.wicd',\n",
       " '.gnupg',\n",
       " '.nexuiz',\n",
       " '.continuum',\n",
       " 'Python Assignment-14.ipynb',\n",
       " 'flight',\n",
       " 'Public',\n",
       " '.xsession-errors',\n",
       " 'Untitled.ipynb',\n",
       " \"PlayOnLinux's virtual drives\",\n",
       " 'Pictures',\n",
       " 'Documents',\n",
       " 'Untitled5.ipynb',\n",
       " '.condarc',\n",
       " 'Untitled1.ipynb',\n",
       " '.pki',\n",
       " '.nv',\n",
       " 'ML PROJECT(Car Prediction).ipynb',\n",
       " '.PlayOnLinux',\n",
       " '.hedgewars',\n",
       " 'Untitled9.ipynb',\n",
       " 'Music',\n",
       " 'Desktop',\n",
       " '.bash_logout',\n",
       " '.themes',\n",
       " 'Car-Price-Prediction-master.zip',\n",
       " '.sudo_as_admin_successful',\n",
       " '.shutter',\n",
       " '.thunderbird',\n",
       " 'Machine Learning (Logistic regression 2).ipynb',\n",
       " 'Untitled11.ipynb',\n",
       " '.conda',\n",
       " 'Python Assignment-13.ipynb',\n",
       " 'PycharmProjects',\n",
       " 'test.csv',\n",
       " '.local',\n",
       " 'Videos',\n",
       " 'Untitled12.ipynb',\n",
       " '.gnome2',\n",
       " 'car_data.csv',\n",
       " '.wget-hsts',\n",
       " '.anaconda',\n",
       " '.gtkrc-2.0',\n",
       " 'Python Assignment-11.ipynb',\n",
       " 'anaconda3',\n",
       " '.pokerth',\n",
       " '.dmrc',\n",
       " 'requirements.',\n",
       " '.bashrc',\n",
       " 'random_forest_regression_model.pkl',\n",
       " 'today',\n",
       " 'books.db',\n",
       " 'Python Assignment-8.ipynb',\n",
       " 'Python Basic Assignment-21.ipynb',\n",
       " 'books.csv',\n",
       " '.ICEauthority',\n",
       " 'Python Assignment-9.ipynb',\n",
       " 'Python Basic Assignment-20.ipynb',\n",
       " '.mozilla',\n",
       " '.profile',\n",
       " '.gtkrc-xfce',\n",
       " '.thumbnails',\n",
       " 'Python Assignment-12.ipynb',\n",
       " '.ipynb_checkpoints',\n",
       " 'test.txt',\n",
       " '.cinnamon',\n",
       " '.dbus',\n",
       " 'Untitled4.ipynb',\n",
       " 'books1.csv',\n",
       " 'Untitled10.ipynb',\n",
       " 'Untitled7.ipynb',\n",
       " 'Python Assignment-5.ipynb',\n",
       " '.bash_history']"
      ]
     },
     "execution_count": 17,
     "metadata": {},
     "output_type": "execute_result"
    }
   ],
   "source": [
    "#4. List the files in your current directory\n",
    "\n",
    "import os\n",
    "os.listdir()"
   ]
  },
  {
   "cell_type": "code",
   "execution_count": 18,
   "id": "55184470",
   "metadata": {},
   "outputs": [
    {
     "data": {
      "text/plain": [
       "['timeshift', 'v4rdaan', 'lost+found']"
      ]
     },
     "execution_count": 18,
     "metadata": {},
     "output_type": "execute_result"
    }
   ],
   "source": [
    "#5. Create a list of all of the files in your parent directory (minimum five files should be available).\n",
    "\n",
    "import os\n",
    "os.listdir('..')"
   ]
  },
  {
   "cell_type": "code",
   "execution_count": 5,
   "id": "1cb69f51",
   "metadata": {},
   "outputs": [
    {
     "ename": "IndentationError",
     "evalue": "expected an indented block (3383539436.py, line 6)",
     "output_type": "error",
     "traceback": [
      "\u001b[0;36m  Input \u001b[0;32mIn [5]\u001b[0;36m\u001b[0m\n\u001b[0;31m    from datetime import datetime\u001b[0m\n\u001b[0m    ^\u001b[0m\n\u001b[0;31mIndentationError\u001b[0m\u001b[0;31m:\u001b[0m expected an indented block\n"
     ]
    }
   ],
   "source": [
    "#6. Use multiprocessing to create three separate processes. Make each one wait a random number of\n",
    "#seconds between one and five, print the current time, and then exit.\n",
    "\n",
    "import multiprocessing\n",
    "def now(seconds):\n",
    "from datetime import datetime\n",
    "from time import sleep\n",
    "    sleep(seconds)\n",
    "    print('wait', seconds, 'seconds, time is', datetime.utcnow())\n",
    "if __name__ == '__main__':\n",
    "    import random\n",
    "    for n in range(3):\n",
    "        seconds= random.random()\n",
    "        proc = multiprocessing.Process(target=now, args=(seconds,))\n",
    "        proc.start()"
   ]
  },
  {
   "cell_type": "code",
   "execution_count": 23,
   "id": "1410189e",
   "metadata": {},
   "outputs": [
    {
     "ename": "NameError",
     "evalue": "name 'DateTime' is not defined",
     "output_type": "error",
     "traceback": [
      "\u001b[0;31m---------------------------------------------------------------------------\u001b[0m",
      "\u001b[0;31mNameError\u001b[0m                                 Traceback (most recent call last)",
      "Input \u001b[0;32mIn [23]\u001b[0m, in \u001b[0;36m<cell line: 4>\u001b[0;34m()\u001b[0m\n\u001b[1;32m      2\u001b[0m my_day\u001b[38;5;241m=\u001b[39m date(\u001b[38;5;241m1982\u001b[39m, \u001b[38;5;241m8\u001b[39m, \u001b[38;5;241m14\u001b[39m)\n\u001b[1;32m      3\u001b[0m my_day\n\u001b[0;32m----> 4\u001b[0m \u001b[43mDateTime\u001b[49m\u001b[38;5;241m.\u001b[39mdate(\u001b[38;5;241m1982\u001b[39m, \u001b[38;5;241m8\u001b[39m, \u001b[38;5;241m14\u001b[39m)\n",
      "\u001b[0;31mNameError\u001b[0m: name 'DateTime' is not defined"
     ]
    }
   ],
   "source": [
    "#7. Create a date object of your day of birth.\n",
    "my_day= date(1982, 8, 14)\n",
    "my_day\n",
    "DateTime.date(1982, 8, 14)"
   ]
  },
  {
   "cell_type": "code",
   "execution_count": 2,
   "id": "a2498a41",
   "metadata": {},
   "outputs": [
    {
     "ename": "SyntaxError",
     "evalue": "leading zeros in decimal integer literals are not permitted; use an 0o prefix for octal integers (1027579136.py, line 3)",
     "output_type": "error",
     "traceback": [
      "\u001b[0;36m  Input \u001b[0;32mIn [2]\u001b[0;36m\u001b[0m\n\u001b[0;31m    my_day = date(14, 01, 1996)\u001b[0m\n\u001b[0m                       ^\u001b[0m\n\u001b[0;31mSyntaxError\u001b[0m\u001b[0;31m:\u001b[0m leading zeros in decimal integer literals are not permitted; use an 0o prefix for octal integers\n"
     ]
    }
   ],
   "source": [
    "#8. What day of the week was your day of birth?\n",
    "\n",
    "my_day = date(14, 01, 1996)\n",
    "my_day "
   ]
  },
  {
   "cell_type": "code",
   "execution_count": 3,
   "id": "ffb23466",
   "metadata": {},
   "outputs": [
    {
     "ename": "SyntaxError",
     "evalue": "invalid syntax (2274902203.py, line 3)",
     "output_type": "error",
     "traceback": [
      "\u001b[0;36m  Input \u001b[0;32mIn [3]\u001b[0;36m\u001b[0m\n\u001b[0;31m    from datetime\u001b[0m\n\u001b[0m                 ^\u001b[0m\n\u001b[0;31mSyntaxError\u001b[0m\u001b[0;31m:\u001b[0m invalid syntax\n"
     ]
    }
   ],
   "source": [
    "#9. When will you be (or when were you) 10,000 days old?\n",
    "\n",
    "from datetime\n",
    "import timedelta\n",
    "party_day = my_day + timedelta(days=10000)\n",
    "party_day"
   ]
  },
  {
   "cell_type": "code",
   "execution_count": null,
   "id": "d22b4d12",
   "metadata": {},
   "outputs": [],
   "source": []
  }
 ],
 "metadata": {
  "kernelspec": {
   "display_name": "Python 3 (ipykernel)",
   "language": "python",
   "name": "python3"
  },
  "language_info": {
   "codemirror_mode": {
    "name": "ipython",
    "version": 3
   },
   "file_extension": ".py",
   "mimetype": "text/x-python",
   "name": "python",
   "nbconvert_exporter": "python",
   "pygments_lexer": "ipython3",
   "version": "3.9.12"
  }
 },
 "nbformat": 4,
 "nbformat_minor": 5
}
