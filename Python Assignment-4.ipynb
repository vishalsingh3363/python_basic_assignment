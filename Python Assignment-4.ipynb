{
 "cells": [
  {
   "cell_type": "raw",
   "id": "e67cde0c",
   "metadata": {},
   "source": [
    "1. What exactly is []?\n",
    "\n",
    "Ans-1 this is a square bracket, in list elements are placed inside square brackets.\n"
   ]
  },
  {
   "cell_type": "raw",
   "id": "bf9d3bae",
   "metadata": {},
   "source": [
    "2. In a list of values stored in a variable called spam, how would you assign the value 'hello' as the\n",
    "third value? (Assume [2, 4, 6, 8, 10] are in spam.)\n",
    "Let's pretend the spam includes the list ['a','b','c','d'] for the next three queries.\n",
    "\n",
    "Ans-2  spam[2] = 'hello'"
   ]
  },
  {
   "cell_type": "raw",
   "id": "9ae291d6",
   "metadata": {},
   "source": [
    "3. What is the value of spam[int(int('3' * 2) / 11)]?\n",
    "\n",
    "Ans-3 'd'"
   ]
  },
  {
   "cell_type": "raw",
   "id": "a1cfc7b9",
   "metadata": {},
   "source": [
    "4. What is the value of spam[-1]?\n",
    "\n",
    "Ans-4 'd'"
   ]
  },
  {
   "cell_type": "raw",
   "id": "21a83845",
   "metadata": {},
   "source": [
    "5. What is the value of spam[:2]?\n",
    "Let's pretend bacon has the list [3.14, 'cat', 11, 'cat', True] for the next three questions.\n",
    "\n",
    "Ans-5 ['a', 'b']"
   ]
  },
  {
   "cell_type": "raw",
   "id": "3b012676",
   "metadata": {},
   "source": [
    "6. What is the value of bacon.index('cat')?\n",
    "\n",
    "Ans-6 1"
   ]
  },
  {
   "cell_type": "raw",
   "id": "9b0c96e2",
   "metadata": {},
   "source": [
    "7. How does bacon.append(99) change the look of the list value in bacon?\n",
    "Ans-7 [3.14, 'cat', 11, 'cat', True, 99]"
   ]
  },
  {
   "cell_type": "raw",
   "id": "c656b1e3",
   "metadata": {},
   "source": [
    "8. How does bacon.remove('cat') change the look of the list in bacon?\n",
    "Ans-8 [3.14, 11, 'cat', True]"
   ]
  },
  {
   "cell_type": "raw",
   "id": "276e33fe",
   "metadata": {},
   "source": [
    "9. What are the list concatenation and list replication operators?\n",
    "\n",
    "Ans-9 list concatenation means adding two list (+)\n",
    "and list replication means multiplying two list (*)"
   ]
  },
  {
   "cell_type": "raw",
   "id": "c9db378c",
   "metadata": {},
   "source": [
    "10. What is difference between the list methods append() and insert()?\n",
    "Ans-10 \n",
    "append() add the value at last of list and insert add the value anywhere inside the list position we have define.\n"
   ]
  },
  {
   "cell_type": "raw",
   "id": "d0ac576a",
   "metadata": {},
   "source": [
    "11. What are the two methods for removing items from a list?\n",
    "\n",
    "Ans-11 we can remove items by remove() method and pop() method"
   ]
  },
  {
   "cell_type": "raw",
   "id": "80bc4956",
   "metadata": {},
   "source": [
    "12. Describe how list values and string values are identical.\n",
    "\n",
    "Ans-12 In both list and string we can use concatinate and replicate, In both we can use len() option"
   ]
  },
  {
   "cell_type": "raw",
   "id": "752a3515",
   "metadata": {},
   "source": [
    "13. What is the difference between tuples and lists?\n",
    "\n",
    "Ans-13 \n",
    "List- (i) we use square brackets[] in list (ii)list are mutable entity (iii)list consume more memory\n",
    "Tuples- (i)we use brackets in tuples (ii)list are immutable entity (iii)list consume less memory\n"
   ]
  },
  {
   "cell_type": "raw",
   "id": "2242a783",
   "metadata": {},
   "source": [
    "14. How do you type a tuple value that only contains the integer 42?\n",
    "\n",
    "Ans-14 (42)"
   ]
  },
  {
   "cell_type": "raw",
   "id": "1ab98fcb",
   "metadata": {},
   "source": [
    "15. How do you get a list value is tuple form? How do you get a tuple value is list form?\n",
    "\n",
    "Ans-15  tuple() and list()"
   ]
  },
  {
   "cell_type": "raw",
   "id": "2be69d4d",
   "metadata": {},
   "source": [
    "16. Variables that 'contain' list values are not necessarily lists themselves. Instead, what do they\n",
    "contain?\n",
    "Ans-16 reference to list value"
   ]
  },
  {
   "cell_type": "raw",
   "id": "bd984379",
   "metadata": {},
   "source": [
    "17. How do you distinguish between copy.copy() and copy.deepcopy()?\n",
    "\n",
    "Ans-17 copy.deepcopy() will create duplicate and populate with child object, while copy.copy()  won’t create copies of the child objects themselves."
   ]
  },
  {
   "cell_type": "code",
   "execution_count": null,
   "id": "22bf2ea2",
   "metadata": {},
   "outputs": [],
   "source": []
  },
  {
   "cell_type": "code",
   "execution_count": 18,
   "id": "c5b59fb8",
   "metadata": {},
   "outputs": [],
   "source": []
  },
  {
   "cell_type": "code",
   "execution_count": 19,
   "id": "3f2d2a00",
   "metadata": {},
   "outputs": [],
   "source": []
  },
  {
   "cell_type": "code",
   "execution_count": null,
   "id": "6e969f7f",
   "metadata": {},
   "outputs": [],
   "source": []
  },
  {
   "cell_type": "code",
   "execution_count": null,
   "id": "b81a5382",
   "metadata": {},
   "outputs": [],
   "source": []
  },
  {
   "cell_type": "code",
   "execution_count": null,
   "id": "3703b323",
   "metadata": {},
   "outputs": [],
   "source": []
  },
  {
   "cell_type": "code",
   "execution_count": null,
   "id": "671a83b6",
   "metadata": {},
   "outputs": [],
   "source": []
  },
  {
   "cell_type": "code",
   "execution_count": null,
   "id": "e023fcb7",
   "metadata": {},
   "outputs": [],
   "source": []
  },
  {
   "cell_type": "code",
   "execution_count": null,
   "id": "7ab20a7e",
   "metadata": {},
   "outputs": [],
   "source": []
  },
  {
   "cell_type": "code",
   "execution_count": null,
   "id": "0c0e6efe",
   "metadata": {},
   "outputs": [],
   "source": []
  },
  {
   "cell_type": "code",
   "execution_count": null,
   "id": "d2653785",
   "metadata": {},
   "outputs": [],
   "source": []
  }
 ],
 "metadata": {
  "kernelspec": {
   "display_name": "Python 3 (ipykernel)",
   "language": "python",
   "name": "python3"
  },
  "language_info": {
   "codemirror_mode": {
    "name": "ipython",
    "version": 3
   },
   "file_extension": ".py",
   "mimetype": "text/x-python",
   "name": "python",
   "nbconvert_exporter": "python",
   "pygments_lexer": "ipython3",
   "version": "3.9.12"
  }
 },
 "nbformat": 4,
 "nbformat_minor": 5
}
