{
 "cells": [
  {
   "cell_type": "raw",
   "id": "9daaf16a",
   "metadata": {},
   "source": [
    "1. Why are functions advantageous to have in your programs?\n",
    "Ans-1 Advantages of funtion is that if function is there in our program we dont have to write the same code again and again , we will just call the program and change the values.\n"
   ]
  },
  {
   "cell_type": "raw",
   "id": "b8e2254a",
   "metadata": {},
   "source": [
    "2. When does the code in a function run: when it is specified or when it is called?\n",
    "Ans-2 Code in function runs when it is called."
   ]
  },
  {
   "cell_type": "raw",
   "id": "0fa136e4",
   "metadata": {},
   "source": [
    "3. What statement creates a function?\n",
    "Ans-3 def()"
   ]
  },
  {
   "cell_type": "raw",
   "id": "87aeec86",
   "metadata": {},
   "source": [
    "4. What is the difference between a function and a function call?\n",
    "Ans-4  A function consists of the def statement and the code in its def clause.\n",
    "\n",
    "A function call is what moves the program execution into the function, and the function call evaluates to the function's return value"
   ]
  },
  {
   "cell_type": "raw",
   "id": "cf52d8e7",
   "metadata": {},
   "source": [
    "5. How many global scopes are there in a Python program? How many local scopes?\n",
    "\n",
    "Ans-5 There is one global scope, and a local scope is created whenever a function is called."
   ]
  },
  {
   "cell_type": "raw",
   "id": "cb424866",
   "metadata": {},
   "source": [
    "6. What happens to variables in a local scope when the function call returns?\n",
    "Ans-6 variable in local scope gets destroyed whenfunction call return"
   ]
  },
  {
   "cell_type": "raw",
   "id": "63a31a85",
   "metadata": {},
   "source": [
    "7. What is the concept of a return value? Is it possible to have a return value in an expression?\n",
    "Ans-7 A return value is the value that a function call evaluates to. Like any value, a return value can be used as part of an expression."
   ]
  },
  {
   "cell_type": "raw",
   "id": "68be9fd6",
   "metadata": {},
   "source": [
    "8. If a function does not have a return statement, what is the return value of a call to that function?\n",
    "Ans-8 return value is none"
   ]
  },
  {
   "cell_type": "raw",
   "id": "787c694b",
   "metadata": {},
   "source": [
    "9. How do you make a function variable refer to the global variable?\n",
    "Ans-9 By global statement"
   ]
  },
  {
   "cell_type": "raw",
   "id": "33f2764c",
   "metadata": {},
   "source": [
    "10. What is the data type of None?\n",
    "Ans-10 Nonetype\n"
   ]
  },
  {
   "cell_type": "raw",
   "id": "c5b5bd55",
   "metadata": {},
   "source": [
    "11. What does the sentence import areallyourpetsnamederic do?\n",
    "Ans-11 The import statement imports a module named areallyourpetsnamederic. "
   ]
  },
  {
   "cell_type": "raw",
   "id": "eff2a437",
   "metadata": {},
   "source": [
    "12. If you had a bacon() feature in a spam module, what would you call it after importing spam?\n",
    "Ans-12 spam(bacon)"
   ]
  },
  {
   "cell_type": "raw",
   "id": "491edb80",
   "metadata": {},
   "source": [
    "13. What can you do to save a programme from crashing if it encounters an error?\n",
    "Ans-13 Use try and except definitely"
   ]
  },
  {
   "cell_type": "raw",
   "id": "5d4cd01f",
   "metadata": {},
   "source": [
    "14. What is the purpose of the try clause? What is the purpose of the except clause?\n",
    "Ans-14 Try and Except statement is used to handle these errors within our code.\n",
    "\n",
    "try clause will run first if there is no error after running of try clause then only try clause will run,\n",
    "if there is an error in try clause then except clause will run"
   ]
  },
  {
   "cell_type": "code",
   "execution_count": null,
   "id": "801595d7",
   "metadata": {},
   "outputs": [],
   "source": []
  },
  {
   "cell_type": "code",
   "execution_count": null,
   "id": "54beed9e",
   "metadata": {},
   "outputs": [],
   "source": []
  }
 ],
 "metadata": {
  "kernelspec": {
   "display_name": "Python 3 (ipykernel)",
   "language": "python",
   "name": "python3"
  },
  "language_info": {
   "codemirror_mode": {
    "name": "ipython",
    "version": 3
   },
   "file_extension": ".py",
   "mimetype": "text/x-python",
   "name": "python",
   "nbconvert_exporter": "python",
   "pygments_lexer": "ipython3",
   "version": "3.9.12"
  }
 },
 "nbformat": 4,
 "nbformat_minor": 5
}
