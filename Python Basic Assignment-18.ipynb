{
 "cells": [
  {
   "cell_type": "code",
   "execution_count": null,
   "id": "fe629686",
   "metadata": {},
   "outputs": [],
   "source": [
    "#1. Create a zoo.py file first. Define the hours() function, which prints the string &#39;Open 9-5 daily&#39;.\n",
    "#Then, use the interactive interpreter to import the zoo module and call its hours() function.\n",
    "\n",
    "!pip install model-zoo\n",
    "def hours():\n",
    "    print('Open 9-5 daily')\n",
    "    \n",
    "import zoo\n",
    "zoo.hours()"
   ]
  },
  {
   "cell_type": "code",
   "execution_count": null,
   "id": "a3a832f2",
   "metadata": {},
   "outputs": [],
   "source": [
    "#2. In the interactive interpreter, import the zoo module as menagerie and call its hours() function.\n",
    "\n",
    "import the zoo as menagerie\n",
    "menagerie.hours()"
   ]
  },
  {
   "cell_type": "code",
   "execution_count": null,
   "id": "e570de05",
   "metadata": {},
   "outputs": [],
   "source": [
    "#3. Using the interpreter, explicitly import and call the hours() function from zoo.\n",
    "\n",
    "from zoo import hours\n",
    "hours()"
   ]
  },
  {
   "cell_type": "code",
   "execution_count": null,
   "id": "ea336aa8",
   "metadata": {},
   "outputs": [],
   "source": [
    "#4. Import the hours() function as info and call it.\n",
    "\n",
    "from zoo import hours as info\n",
    "info()"
   ]
  },
  {
   "cell_type": "code",
   "execution_count": null,
   "id": "1d7d2d47",
   "metadata": {},
   "outputs": [],
   "source": [
    "#5. Create a plain dictionary with the key-value pairs &#39;a&#39;: 1, &#39;b&#39;: 2, and &#39;c&#39;: 3, and print it out.\n",
    "\n",
    "plain = {'a': 1, 'b': 2, 'c': 3}\n",
    "plain"
   ]
  },
  {
   "cell_type": "code",
   "execution_count": null,
   "id": "f12f8fa9",
   "metadata": {},
   "outputs": [],
   "source": [
    "#6.Make an OrderedDict called fancy from the same pairs listed in 5 and print it. Did it print in the same order as plain?\n",
    "\n",
    "from collections import OrderedDict\n",
    "\n",
    "ords=OrderedDict([('x', 23),('y' , 21), ('z' , 33)])\n",
    "ords"
   ]
  },
  {
   "cell_type": "code",
   "execution_count": null,
   "id": "dd4b7a1f",
   "metadata": {},
   "outputs": [],
   "source": [
    "#7. Make a default dictionary called dict_of_lists and pass it the argument list. Make the list\n",
    "#dict_of_lists[&#39;a&#39;] and append the value &#39;something for a&#39; to it in one assignment. Print\n",
    "#dict_of_lists[&#39;a&#39;].\n",
    "              \n",
    "from collections import defaultdict\n",
    "dict_of_lists = defaultdict(list)\n",
    "dict_of_lists['a'].append('something for a')\n",
    "dict_of_lists['a']"
   ]
  }
 ],
 "metadata": {
  "kernelspec": {
   "display_name": "Python 3 (ipykernel)",
   "language": "python",
   "name": "python3"
  },
  "language_info": {
   "codemirror_mode": {
    "name": "ipython",
    "version": 3
   },
   "file_extension": ".py",
   "mimetype": "text/x-python",
   "name": "python",
   "nbconvert_exporter": "python",
   "pygments_lexer": "ipython3",
   "version": "3.10.5"
  }
 },
 "nbformat": 4,
 "nbformat_minor": 5
}
