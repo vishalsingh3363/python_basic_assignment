{
 "cells": [
  {
   "cell_type": "code",
   "execution_count": 3,
   "id": "81462906",
   "metadata": {},
   "outputs": [
    {
     "data": {
      "text/plain": [
       "[1997, 1998, 1999, 2000, 2001, 2002]"
      ]
     },
     "execution_count": 3,
     "metadata": {},
     "output_type": "execute_result"
    }
   ],
   "source": [
    "#1. Create a list called years_list, starting with the year of your birth, and each year thereafter until\n",
    "#the year of your fifth birthday. For example, if you were born in 1980. the list would be years_list =\n",
    "#[1980, 1981, 1982, 1983, 1984, 1985].\n",
    "\n",
    "year=[]\n",
    "for i in range(1997,2003):\n",
    "    year.append(i)\n",
    "    \n",
    "year"
   ]
  },
  {
   "cell_type": "code",
   "execution_count": 4,
   "id": "9005cd1b",
   "metadata": {},
   "outputs": [
    {
     "data": {
      "text/plain": [
       "2000"
      ]
     },
     "execution_count": 4,
     "metadata": {},
     "output_type": "execute_result"
    }
   ],
   "source": [
    "#2. In which year in years_list was your third birthday? Remember, you were 0 years of age for your first year.\n",
    "\n",
    "year[3]"
   ]
  },
  {
   "cell_type": "code",
   "execution_count": 5,
   "id": "88158a8b",
   "metadata": {},
   "outputs": [
    {
     "data": {
      "text/plain": [
       "2002"
      ]
     },
     "execution_count": 5,
     "metadata": {},
     "output_type": "execute_result"
    }
   ],
   "source": [
    "#3.In the years list, which year were you the oldest?\n",
    "\n",
    "max(year)"
   ]
  },
  {
   "cell_type": "code",
   "execution_count": 6,
   "id": "fdaaea11",
   "metadata": {},
   "outputs": [
    {
     "data": {
      "text/plain": [
       "['mozzarella', 'cinderella', 'salmonella']"
      ]
     },
     "execution_count": 6,
     "metadata": {},
     "output_type": "execute_result"
    }
   ],
   "source": [
    "#4. Make a list called things with these three strings as elements: 'mozzarella', 'cinderella', 'salmonella'.\n",
    "\n",
    "food= ['mozzarella', 'cinderella','salmonella']\n",
    "food"
   ]
  },
  {
   "cell_type": "code",
   "execution_count": 8,
   "id": "c94d831b",
   "metadata": {},
   "outputs": [
    {
     "name": "stdout",
     "output_type": "stream",
     "text": [
      "Mozzarella\n",
      "Cinderella\n",
      "Salmonella\n"
     ]
    }
   ],
   "source": [
    "#5. Capitalize the element in things that refers to a person and then print the list. Did it change the element in the list?\n",
    "\n",
    "for i in food:\n",
    "    print(i.capitalize())\n",
    "    "
   ]
  },
  {
   "cell_type": "code",
   "execution_count": 9,
   "id": "3450586d",
   "metadata": {},
   "outputs": [
    {
     "data": {
      "text/plain": [
       "['Groucho', 'Chico', 'Harpo']"
      ]
     },
     "execution_count": 9,
     "metadata": {},
     "output_type": "execute_result"
    }
   ],
   "source": [
    "#6. Make a surprise list with the elements 'Groucho,' 'Chico,' and 'Harpo.'\n",
    "\n",
    "surprise_list = ['Groucho' , 'Chico' , 'Harpo']\n",
    "surprise_list"
   ]
  },
  {
   "cell_type": "code",
   "execution_count": 12,
   "id": "9f95ed35",
   "metadata": {},
   "outputs": [
    {
     "name": "stdout",
     "output_type": "stream",
     "text": [
      "harpo\n",
      "opraH\n",
      "OPRAH\n"
     ]
    }
   ],
   "source": [
    "#7. Lowercase the last element of the surprise list, reverse it, and then capitalize it.\n",
    "\n",
    "print(surprise_list[-1].lower())\n",
    "\n",
    "print(surprise_list[-1][::-1])\n",
    "\n",
    "print(surprise_list[-1][::-1].upper())\n"
   ]
  },
  {
   "cell_type": "code",
   "execution_count": 13,
   "id": "10670f0f",
   "metadata": {},
   "outputs": [],
   "source": [
    "#8. Make an English-to-French dictionary called e2f and print it. Here are your starter words: dog is chien, cat is chat, and walrus is morse.\n",
    "\n",
    "e2f = {'dog':'chien','cat':'chat','walrus':'morse'}\n"
   ]
  },
  {
   "cell_type": "code",
   "execution_count": 16,
   "id": "f54974c9",
   "metadata": {},
   "outputs": [
    {
     "data": {
      "text/plain": [
       "'morse'"
      ]
     },
     "execution_count": 16,
     "metadata": {},
     "output_type": "execute_result"
    }
   ],
   "source": [
    "#9. Write the French word for walrus in your three-word dictionary e2f.\n",
    "\n",
    "e2f['walrus']\n"
   ]
  },
  {
   "cell_type": "code",
   "execution_count": 15,
   "id": "657de591",
   "metadata": {},
   "outputs": [
    {
     "data": {
      "text/plain": [
       "{'chien': 'dog', 'chat': 'cat', 'morse': 'walrus'}"
      ]
     },
     "execution_count": 15,
     "metadata": {},
     "output_type": "execute_result"
    }
   ],
   "source": [
    "#10. Make a French-to-English dictionary called f2e from e2f. Use the items method.\n",
    "\n",
    "f2e = dict((key,value) for value,key in e2f.items())\n",
    "f2e"
   ]
  },
  {
   "cell_type": "code",
   "execution_count": 17,
   "id": "965e9c7f",
   "metadata": {},
   "outputs": [
    {
     "data": {
      "text/plain": [
       "'dog'"
      ]
     },
     "execution_count": 17,
     "metadata": {},
     "output_type": "execute_result"
    }
   ],
   "source": [
    "#11. Print the English version of the French word chien using f2e.\n",
    "\n",
    "f2e['chien']\n"
   ]
  },
  {
   "cell_type": "code",
   "execution_count": 18,
   "id": "be894da7",
   "metadata": {},
   "outputs": [
    {
     "data": {
      "text/plain": [
       "dict_keys(['dog', 'cat', 'walrus'])"
      ]
     },
     "execution_count": 18,
     "metadata": {},
     "output_type": "execute_result"
    }
   ],
   "source": [
    "#12. Make and print a set of English words from the keys in e2f.\n",
    "\n",
    "e2f.keys()"
   ]
  },
  {
   "cell_type": "code",
   "execution_count": 22,
   "id": "a3ed0c2a",
   "metadata": {},
   "outputs": [
    {
     "data": {
      "text/plain": [
       "{'animals': {'cat': ['Henri', 'Grumpy', 'Lucy'], 'octopi': '', 'emus': ''},\n",
       " 'plants': '',\n",
       " 'other': ''}"
      ]
     },
     "execution_count": 22,
     "metadata": {},
     "output_type": "execute_result"
    }
   ],
   "source": [
    "#13. Make a multilevel dictionary called life. Use these strings for the topmost keys: &#39;animals&#39;, &#39;plants&#39;,\n",
    "#and &#39;other&#39;. Make the &#39;animals&#39; key refer to another dictionary with the keys &#39;cats&#39;, &#39;octopi&#39;, and\n",
    "#&#39;emus&#39;. Make the &#39;cats&#39; key refer to a list of strings with the values &#39;Henri&#39;, &#39;Grumpy&#39;, and &#39;Lucy&#39;.\n",
    "#Make all the other keys refer to empty dictionaries.\n",
    "\n",
    "\n",
    "life ={'animals':{'cat':['Henri', 'Grumpy', 'Lucy'], 'octopi':'', 'emus':''},\n",
    "       'plants' :'',\n",
    "       'other' :'' }\n",
    "life"
   ]
  },
  {
   "cell_type": "code",
   "execution_count": 21,
   "id": "2e179eb7",
   "metadata": {},
   "outputs": [
    {
     "data": {
      "text/plain": [
       "dict_keys(['animals', 'plants', 'other'])"
      ]
     },
     "execution_count": 21,
     "metadata": {},
     "output_type": "execute_result"
    }
   ],
   "source": [
    "#14. Print the top-level keys of life.\n",
    " \n",
    "life.keys()"
   ]
  },
  {
   "cell_type": "code",
   "execution_count": 23,
   "id": "5f9b18f1",
   "metadata": {},
   "outputs": [
    {
     "data": {
      "text/plain": [
       "dict_keys(['cat', 'octopi', 'emus'])"
      ]
     },
     "execution_count": 23,
     "metadata": {},
     "output_type": "execute_result"
    }
   ],
   "source": [
    "#15. Print the keys for life['animals'].\n",
    "\n",
    "life['animals'].keys()"
   ]
  },
  {
   "cell_type": "code",
   "execution_count": 25,
   "id": "a1fb4a1c",
   "metadata": {},
   "outputs": [
    {
     "data": {
      "text/plain": [
       "['Henri', 'Grumpy', 'Lucy']"
      ]
     },
     "execution_count": 25,
     "metadata": {},
     "output_type": "execute_result"
    }
   ],
   "source": [
    "#16. Print the values for life['animals']['cats']\n",
    "life['animals']['cat']"
   ]
  },
  {
   "cell_type": "code",
   "execution_count": null,
   "id": "d3aed869",
   "metadata": {},
   "outputs": [],
   "source": []
  }
 ],
 "metadata": {
  "kernelspec": {
   "display_name": "Python 3 (ipykernel)",
   "language": "python",
   "name": "python3"
  },
  "language_info": {
   "codemirror_mode": {
    "name": "ipython",
    "version": 3
   },
   "file_extension": ".py",
   "mimetype": "text/x-python",
   "name": "python",
   "nbconvert_exporter": "python",
   "pygments_lexer": "ipython3",
   "version": "3.10.5"
  }
 },
 "nbformat": 4,
 "nbformat_minor": 5
}
