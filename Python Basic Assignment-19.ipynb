{
 "cells": [
  {
   "cell_type": "code",
   "execution_count": 2,
   "id": "57dbda92",
   "metadata": {},
   "outputs": [
    {
     "name": "stdout",
     "output_type": "stream",
     "text": [
      "<class '__main__.Thing'>\n"
     ]
    }
   ],
   "source": [
    "#1. Make a class called Thing with no contents and print it. Then, create an object called example\n",
    "#from this class and also print it. Are the printed values the same or different?\n",
    "\n",
    "class Thing:\n",
    "    pass\n",
    "\n",
    "print(Thing)\n"
   ]
  },
  {
   "cell_type": "code",
   "execution_count": 3,
   "id": "2083b671",
   "metadata": {},
   "outputs": [
    {
     "name": "stdout",
     "output_type": "stream",
     "text": [
      "abc\n"
     ]
    }
   ],
   "source": [
    "#2. Create a new class called Thing2 and add the value &#39;abc&#39; to the letters class attribute. Letters\n",
    "#should be printed.\n",
    "\n",
    "class Thing2:\n",
    "    letter= 'abc'\n",
    "print(Thing2.letter)"
   ]
  },
  {
   "cell_type": "code",
   "execution_count": 4,
   "id": "5ad94a09",
   "metadata": {},
   "outputs": [
    {
     "name": "stdout",
     "output_type": "stream",
     "text": [
      "xyz\n"
     ]
    }
   ],
   "source": [
    "#3. Make yet another class called, of course, Thing3. This time, assign the value &#39;xyz&#39; to an instance\n",
    "#(object) attribute called letters. Print letters. Do you need to make an object from the class to do\n",
    "#this?\n",
    "class Things3:\n",
    "    def __init__(self):\n",
    "        self.letters= 'xyz'\n",
    "\n",
    "\n",
    "something= Things3()\n",
    "print(something.letters)\n"
   ]
  },
  {
   "cell_type": "code",
   "execution_count": 5,
   "id": "e7aedec2",
   "metadata": {},
   "outputs": [],
   "source": [
    "#4. Create an Element class with the instance attributes name, symbol, and number. Create a class\n",
    "#object with the values &#39;Hydrogen,&#39; &#39;H,&#39; and 1.\n",
    "\n",
    "class element:\n",
    "    def __init__(self, name, symbol, number):\n",
    "        self.name=name\n",
    "        self.symbol=symbol\n",
    "        self.number=number\n",
    "        \n",
    "hydrogen= element('hydrogen', 'H', 1)"
   ]
  },
  {
   "cell_type": "code",
   "execution_count": 6,
   "id": "c38f3191",
   "metadata": {},
   "outputs": [
    {
     "data": {
      "text/plain": [
       "'Hydrogen'"
      ]
     },
     "execution_count": 6,
     "metadata": {},
     "output_type": "execute_result"
    }
   ],
   "source": [
    "#5. Make a dictionary with these keys and values: &#39;name&#39;: &#39;Hydrogen&#39;, &#39;symbol&#39;: &#39;H&#39;, &#39;number&#39;: 1. Then,\n",
    "#create an object called hydrogen from class Element using this dictionary.\n",
    "dict_1 = {'name': 'Hydrogen', 'symbol': 'H', 'number': 1}\n",
    "\n",
    "hydrogen = element(dict_1['name'], dict_1['symbol'], dict_1['number'])\n",
    "hydrogen.name"
   ]
  },
  {
   "cell_type": "code",
   "execution_count": 7,
   "id": "28c0f9a6",
   "metadata": {},
   "outputs": [],
   "source": [
    "#6. For the Element class, define a method called dump() that prints the values of the object’s\n",
    "#attributes (name, symbol, and number). Create the hydrogen object from this new definition and\n",
    "#use dump() to print its attributes.\n",
    "\n",
    "class Element:\n",
    "    def __init__(self, name, symbol, number):\n",
    "        self.name = name\n",
    "        self.symbol = symbol        \n",
    "        self.number = number     \n",
    "        def dump(self):      \n",
    "            print('name=%s, symbol=%s, number=%s' % (self.name, self.symbol, self.number))\n",
    "            hydrogen = Element(dict_1)\n",
    "            hydrogen.dump()"
   ]
  },
  {
   "cell_type": "code",
   "execution_count": 8,
   "id": "49bf3f86",
   "metadata": {},
   "outputs": [
    {
     "name": "stdout",
     "output_type": "stream",
     "text": [
      "<__main__.Element object at 0x000001C18F03C520>\n"
     ]
    }
   ],
   "source": [
    "#7. Call print(hydrogen). In the definition of Element, change the name of method dump to __str__,\n",
    "#create a new hydrogen object, and call print(hydrogen) again.\n",
    "\n",
    "class Element:     \n",
    "    def __init__(self, name, symbol, number):\n",
    "        self.name = name\n",
    "        self.symbol = symbol\n",
    "        self.number = number\n",
    "        def __str__(self):\n",
    "            return ('name=%s, symbol=%s, number=%s' %(self.name, self.symbol, self.number))\n",
    "hydrogen = Element(**dict_1)\n",
    "print(hydrogen)"
   ]
  },
  {
   "cell_type": "code",
   "execution_count": 10,
   "id": "f7ac6111",
   "metadata": {},
   "outputs": [],
   "source": [
    "#8. Modify Element to make the attributes name, symbol, and number private. Define a getter\n",
    "#property for each to return its value.\n",
    "\n",
    "class Element:\n",
    "    def __init__(self, name, symbol, number):\n",
    "        self.__name = name\n",
    "        self.__symbol = symbol\n",
    "        self.__number = number\n",
    "        @property\n",
    "        def name(self):\n",
    "            return self.__name\n",
    "        @property\n",
    "        def symbol(self):\n",
    "            return self.__symbol\n",
    "        @property\n",
    "        def number(self):\n",
    "            return self.__number\n",
    "        \n",
    "hydrogen = Element('Hydrogen', 'H', 1) \n",
    "\n",
    "        "
   ]
  },
  {
   "cell_type": "code",
   "execution_count": 11,
   "id": "af6b0090",
   "metadata": {},
   "outputs": [
    {
     "ename": "AttributeError",
     "evalue": "'Element' object has no attribute 'name'",
     "output_type": "error",
     "traceback": [
      "\u001b[1;31m---------------------------------------------------------------------------\u001b[0m",
      "\u001b[1;31mAttributeError\u001b[0m                            Traceback (most recent call last)",
      "Input \u001b[1;32mIn [11]\u001b[0m, in \u001b[0;36m<cell line: 1>\u001b[1;34m()\u001b[0m\n\u001b[1;32m----> 1\u001b[0m \u001b[43mhydrogen\u001b[49m\u001b[38;5;241;43m.\u001b[39;49m\u001b[43mname\u001b[49m\n",
      "\u001b[1;31mAttributeError\u001b[0m: 'Element' object has no attribute 'name'"
     ]
    }
   ],
   "source": [
    "hydrogen.name"
   ]
  },
  {
   "cell_type": "code",
   "execution_count": 3,
   "id": "b407b948",
   "metadata": {},
   "outputs": [
    {
     "name": "stdout",
     "output_type": "stream",
     "text": [
      "berries\n",
      "clover\n",
      "campers\n"
     ]
    }
   ],
   "source": [
    "#9. Define three classes: Bear, Rabbit, and Octothorpe. For each, define only one method: eats(). This\n",
    "#should return &#39;berries&#39; (Bear), &#39;clover&#39; (Rabbit), or &#39;campers&#39; (Octothorpe). Create one object from\n",
    "#each and print what it eats.\n",
    "\n",
    "class bear:\n",
    "    def eats(self):\n",
    "        return 'berries'\n",
    "    \n",
    "class rabbit:\n",
    "    def eats(self):\n",
    "        return 'clover'\n",
    "    \n",
    "class octothorpe:\n",
    "    def eats(self):\n",
    "        return 'campers'\n",
    "    \n",
    "b= bear()\n",
    "r= rabbit()\n",
    "o=octothorpe()\n",
    "\n",
    "print(b.eats())\n",
    "print(r.eats())\n",
    "print(o.eats())\n"
   ]
  },
  {
   "cell_type": "code",
   "execution_count": 2,
   "id": "544cb7a7",
   "metadata": {},
   "outputs": [
    {
     "ename": "NameError",
     "evalue": "name 'robot' is not defined",
     "output_type": "error",
     "traceback": [
      "\u001b[1;31m---------------------------------------------------------------------------\u001b[0m",
      "\u001b[1;31mNameError\u001b[0m                                 Traceback (most recent call last)",
      "Input \u001b[1;32mIn [2]\u001b[0m, in \u001b[0;36m<cell line: 18>\u001b[1;34m()\u001b[0m\n\u001b[0;32m     15\u001b[0m     \u001b[38;5;28;01mdef\u001b[39;00m \u001b[38;5;21mdoes\u001b[39m(\u001b[38;5;28mself\u001b[39m):\n\u001b[0;32m     16\u001b[0m         \u001b[38;5;28;01mreturn\u001b[39;00m \u001b[38;5;124m'\u001b[39m\u001b[38;5;124mring\u001b[39m\u001b[38;5;124m'\u001b[39m\n\u001b[1;32m---> 18\u001b[0m \u001b[38;5;28;01mclass\u001b[39;00m \u001b[38;5;21;01mrobot\u001b[39;00m:\n\u001b[0;32m     19\u001b[0m     \u001b[38;5;28;01mdef\u001b[39;00m \u001b[38;5;21m__init__\u001b[39m(\u001b[38;5;28mself\u001b[39m):\n\u001b[0;32m     20\u001b[0m         \u001b[38;5;28mself\u001b[39m\u001b[38;5;241m.\u001b[39mlaser\u001b[38;5;241m=\u001b[39mlaser()\n",
      "Input \u001b[1;32mIn [2]\u001b[0m, in \u001b[0;36mrobot\u001b[1;34m()\u001b[0m\n\u001b[0;32m     24\u001b[0m \u001b[38;5;28;01mdef\u001b[39;00m \u001b[38;5;21mdoes\u001b[39m(\u001b[38;5;28mself\u001b[39m):\n\u001b[0;32m     25\u001b[0m     \u001b[38;5;28;01mreturn\u001b[39;00m \u001b[38;5;124m'''\u001b[39m\u001b[38;5;124m my laser, to \u001b[39m\u001b[38;5;132;01m%s\u001b[39;00m\u001b[38;5;124m. my claw, to \u001b[39m\u001b[38;5;132;01m%s\u001b[39;00m\u001b[38;5;124m. my smartphone, to \u001b[39m\u001b[38;5;132;01m%s\u001b[39;00m\u001b[38;5;124m.\u001b[39m\u001b[38;5;124m'''\u001b[39m \u001b[38;5;241m%\u001b[39m(\n\u001b[0;32m     26\u001b[0m         \u001b[38;5;28mself\u001b[39m\u001b[38;5;241m.\u001b[39mlaser\u001b[38;5;241m.\u001b[39mdoes(),\n\u001b[0;32m     27\u001b[0m         \u001b[38;5;28mself\u001b[39m\u001b[38;5;241m.\u001b[39mclaw\u001b[38;5;241m.\u001b[39mdoes(),\n\u001b[0;32m     28\u001b[0m         \u001b[38;5;28mself\u001b[39m\u001b[38;5;241m.\u001b[39msmartphone\u001b[38;5;241m.\u001b[39mdoes())\n\u001b[1;32m---> 30\u001b[0m robbies\u001b[38;5;241m=\u001b[39m \u001b[43mrobot\u001b[49m()\n\u001b[0;32m     31\u001b[0m \u001b[38;5;28mprint\u001b[39m(robbies\u001b[38;5;241m.\u001b[39mdoes())\n",
      "\u001b[1;31mNameError\u001b[0m: name 'robot' is not defined"
     ]
    }
   ],
   "source": [
    "#10. Define these classes: Laser, Claw, and SmartPhone. Each has only one method: does(). This\n",
    "#returns &#39;disintegrate&#39; (Laser), &#39;crush&#39; (Claw), or &#39;ring&#39; (SmartPhone). Then, define the class Robot that\n",
    "#has one instance (object) of each of these. Define a does() method for the Robot that prints what its\n",
    "#component objects do.\n",
    "\n",
    "class laser:\n",
    "    def does(self):\n",
    "        return 'disintegrate'\n",
    "    \n",
    "class claw:\n",
    "    def does(self):\n",
    "        return 'crush'\n",
    "    \n",
    "class smartphone:\n",
    "    def does(self):\n",
    "        return 'ring'\n",
    "\n",
    "class robot:\n",
    "    def __init__(self):\n",
    "        self.laser=laser()\n",
    "        self.claw=claw()\n",
    "        self.smartphone= smartphone()\n",
    "        \n",
    "    def does(self):\n",
    "        return ''' my laser, to %s. my claw, to %s. my smartphone, to %s.''' %(\n",
    "            self.laser.does(),\n",
    "            self.claw.does(),\n",
    "            self.smartphone.does())\n",
    "    \n",
    "    robbies= robot()\n",
    "    print(robbies.does())"
   ]
  },
  {
   "cell_type": "code",
   "execution_count": null,
   "id": "51d4da28",
   "metadata": {},
   "outputs": [],
   "source": []
  }
 ],
 "metadata": {
  "kernelspec": {
   "display_name": "Python 3 (ipykernel)",
   "language": "python",
   "name": "python3"
  },
  "language_info": {
   "codemirror_mode": {
    "name": "ipython",
    "version": 3
   },
   "file_extension": ".py",
   "mimetype": "text/x-python",
   "name": "python",
   "nbconvert_exporter": "python",
   "pygments_lexer": "ipython3",
   "version": "3.10.5"
  }
 },
 "nbformat": 4,
 "nbformat_minor": 5
}
