{
 "cells": [
  {
   "cell_type": "code",
   "execution_count": null,
   "id": "286d4e94",
   "metadata": {},
   "outputs": [],
   "source": [
    "1. In the below elements which of them are values or an expression? eg:- values can be\n",
    "integer or string and expressions will be mathematical operators.\n",
    "\n",
    "Ans-1 \n",
    "Values- *, -, +, /\n",
    "Mathematical- -87.8, 6, 'hello' "
   ]
  },
  {
   "cell_type": "code",
   "execution_count": null,
   "id": "25636250",
   "metadata": {},
   "outputs": [],
   "source": [
    "2. What is the difference between string and variable?\n",
    "\n",
    "Ans-2 variable is a name or character in which we store the value in memory\n",
    "and string is the value which is stored in variable"
   ]
  },
  {
   "cell_type": "code",
   "execution_count": null,
   "id": "d424c39a",
   "metadata": {},
   "outputs": [],
   "source": [
    "3. Describe three different data types.\n",
    "\n",
    "Ans-3 the three data types are\n",
    "i) boolean- it represent the value in true and false form where true=1 and false=0\n",
    "ii) string- this is used to store the characters \n",
    "iii) integer- used to store numbers."
   ]
  },
  {
   "cell_type": "code",
   "execution_count": null,
   "id": "76741ecd",
   "metadata": {},
   "outputs": [],
   "source": [
    "4. What is an expression made up of? What do all expressions do?\n",
    "\n",
    "Ans-4 Expressions represent something, like a number, a string, or an instance of a class. Any value is an expression, \n",
    "\n",
    "Expressions combines values and operators and always evaluates down to a single value."
   ]
  },
  {
   "cell_type": "code",
   "execution_count": null,
   "id": "841cd902",
   "metadata": {},
   "outputs": [],
   "source": [
    "5. This assignment statements, like spam = 10. What is the difference between an\n",
    "expression and a statement?\n",
    "\n",
    "Ans-5 Expressions represent something, like a number, a string, and  statement is the instructions that a Python interpreter can execute."
   ]
  },
  {
   "cell_type": "code",
   "execution_count": null,
   "id": "c8d08527",
   "metadata": {},
   "outputs": [],
   "source": [
    "6. After running the following code, what does the variable bacon contain?\n",
    "bacon = 22\n",
    "bacon + 1\n",
    "\n",
    "Ans-6 this will give 23 as output on execution"
   ]
  },
  {
   "cell_type": "code",
   "execution_count": null,
   "id": "66e2f9ee",
   "metadata": {},
   "outputs": [],
   "source": [
    "7. What should the values of the following two terms be?\n",
    "'spam' + 'spamspam'\n",
    "'spam' * 3\n",
    "\n",
    "Ans-7 both will give ('spamspamspam') on execution"
   ]
  },
  {
   "cell_type": "code",
   "execution_count": null,
   "id": "14bea497",
   "metadata": {},
   "outputs": [],
   "source": [
    "8. Why is eggs a valid variable name while 100 is invalid?\n",
    "Ans-8 "
   ]
  },
  {
   "cell_type": "code",
   "execution_count": null,
   "id": "96718bab",
   "metadata": {},
   "outputs": [],
   "source": [
    "9. What three functions can be used to get the integer, floating-point number, or string version of a value?\n",
    "\n",
    "ans-9  str(), int(), float()"
   ]
  },
  {
   "cell_type": "code",
   "execution_count": null,
   "id": "d611003b",
   "metadata": {},
   "outputs": [],
   "source": [
    "10. Why does this expression cause an error? How can you fix it?\n",
    "\n",
    "'I have eaten' + 99 + 'burritos' \n",
    "\n",
    "Ans-10  This cause error because we cannot combine stribg with integer, for concatination operation data type should be same"
   ]
  }
 ],
 "metadata": {
  "kernelspec": {
   "display_name": "Python 3 (ipykernel)",
   "language": "python",
   "name": "python3"
  },
  "language_info": {
   "codemirror_mode": {
    "name": "ipython",
    "version": 3
   },
   "file_extension": ".py",
   "mimetype": "text/x-python",
   "name": "python",
   "nbconvert_exporter": "python",
   "pygments_lexer": "ipython3",
   "version": "3.9.12"
  }
 },
 "nbformat": 4,
 "nbformat_minor": 5
}
