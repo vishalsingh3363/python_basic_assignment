{
 "cells": [
  {
   "cell_type": "code",
   "execution_count": null,
   "id": "caac76e3",
   "metadata": {},
   "outputs": [],
   "source": [
    "1. Create an assert statement that throws an AssertionError if the variable spam is a negative\n",
    "integer.\n",
    "\n",
    "Ans-1 If condition is not true then assertion error is thrown \n",
    "\n",
    "spam=1\n",
    "assert spam > 1\n",
    "\n",
    "\n",
    "if we execute this assert spam>1 it will give assertion error"
   ]
  },
  {
   "cell_type": "code",
   "execution_count": null,
   "id": "528ce261",
   "metadata": {},
   "outputs": [],
   "source": [
    "2. Write an assert statement that triggers an AssertionError if the variables eggs and bacon contain\n",
    "strings that are the same as each other, even if their cases are different (that is, 'hello' and  'hello' are\n",
    "considered the same, and 'goodbye' and 'GOODbye' are also considered the same).\n",
    "\n",
    "Ans-2 \n",
    "egg= input('enter text')\n",
    "assert eggs.lower()\n",
    "\n",
    "\n"
   ]
  },
  {
   "cell_type": "code",
   "execution_count": null,
   "id": "bca17ef0",
   "metadata": {},
   "outputs": [],
   "source": [
    "3. Create an assert statement that throws an AssertionError every time.\n",
    "\n",
    "\n",
    "Ans-3 \n",
    "number = -13\n",
    "assert number > 0"
   ]
  },
  {
   "cell_type": "code",
   "execution_count": null,
   "id": "13e75bec",
   "metadata": {},
   "outputs": [],
   "source": [
    "4. What are the two lines that must be present in your software in order to call logging.debug()?\n",
    "\n",
    "Ans-4 \n",
    "import logging\n",
    "\n",
    "logging.basicConfig(level=logging.DEBUG, format=' %(asctime)s , %(levelname)s , %(message)s')"
   ]
  },
  {
   "cell_type": "code",
   "execution_count": null,
   "id": "f500720e",
   "metadata": {},
   "outputs": [],
   "source": [
    "5. What are the two lines that your program must have in order to have logging.debug() send a\n",
    "logging message to a file named programLog.txt?\n",
    "\n",
    "Ans-5 In order to have logging.debug() send a logging message to a file named programLog.txt\n",
    "\n",
    "\n",
    "import logging\n",
    "\n",
    "logging.basicConfig(filename='programLog.txt', level=logging.DEBUG, format=' %(asctime)s - %(levelname)s - %(message)s')"
   ]
  },
  {
   "cell_type": "code",
   "execution_count": null,
   "id": "55b57da5",
   "metadata": {},
   "outputs": [],
   "source": [
    "# 6. What are the five levels of logging?\n",
    "\n",
    "Ans-6 Five levels of logging are \n",
    "i)Trace\n",
    "ii)debug\n",
    "iii)Info\n",
    "iv)Warn\n",
    "v)Error "
   ]
  },
  {
   "cell_type": "code",
   "execution_count": null,
   "id": "85e96b79",
   "metadata": {},
   "outputs": [],
   "source": [
    "7. What line of code would you add to your software to disable all logging messages?\n",
    "\n",
    "Ans-7 \n",
    "log = logging.getLogger()\n",
    "log.disabled = True"
   ]
  },
  {
   "cell_type": "code",
   "execution_count": null,
   "id": "2e286fed",
   "metadata": {},
   "outputs": [],
   "source": [
    "8.Why is using logging messages better than using print() to display the same message?\n",
    "\n",
    "Ans-8 logging helps with debugging and troubleshooting, introducing log in code provides a time stamp."
   ]
  },
  {
   "cell_type": "code",
   "execution_count": null,
   "id": "712729a9",
   "metadata": {},
   "outputs": [],
   "source": [
    "9. What are the differences between the Step Over, Step In, and Step Out buttons in the debugger?\n",
    "\n",
    "Ans-9 Step In- it is use when you have to analyse your activity step by step.\n",
    "\n",
    "Step Over- It debugs the activity and container like (flow chart sequences and others) without opening them"
   ]
  },
  {
   "cell_type": "code",
   "execution_count": null,
   "id": "00935c8a",
   "metadata": {},
   "outputs": [],
   "source": [
    "10.After you click Continue, when will the debugger stop ?\n",
    "\n",
    "Ans-10 it will stop after reaching break point"
   ]
  },
  {
   "cell_type": "code",
   "execution_count": null,
   "id": "848bb733",
   "metadata": {},
   "outputs": [],
   "source": [
    "11. What is the concept of a breakpoint?\n",
    "\n",
    "Ans-11 Breakpoint will stop the program at the place where it will find error in code."
   ]
  },
  {
   "cell_type": "code",
   "execution_count": null,
   "id": "eb3f9210",
   "metadata": {},
   "outputs": [],
   "source": []
  },
  {
   "cell_type": "code",
   "execution_count": null,
   "id": "f583449e",
   "metadata": {},
   "outputs": [],
   "source": []
  },
  {
   "cell_type": "code",
   "execution_count": null,
   "id": "7065e321",
   "metadata": {},
   "outputs": [],
   "source": []
  },
  {
   "cell_type": "code",
   "execution_count": null,
   "id": "1d8a691d",
   "metadata": {},
   "outputs": [],
   "source": []
  },
  {
   "cell_type": "code",
   "execution_count": null,
   "id": "a447af8b",
   "metadata": {},
   "outputs": [],
   "source": []
  }
 ],
 "metadata": {
  "kernelspec": {
   "display_name": "Python 3 (ipykernel)",
   "language": "python",
   "name": "python3"
  },
  "language_info": {
   "codemirror_mode": {
    "name": "ipython",
    "version": 3
   },
   "file_extension": ".py",
   "mimetype": "text/x-python",
   "name": "python",
   "nbconvert_exporter": "python",
   "pygments_lexer": "ipython3",
   "version": "3.9.12"
  }
 },
 "nbformat": 4,
 "nbformat_minor": 5
}
