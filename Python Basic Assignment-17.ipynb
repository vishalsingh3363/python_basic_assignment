{
 "cells": [
  {
   "cell_type": "code",
   "execution_count": 1,
   "id": "1331a1ea",
   "metadata": {},
   "outputs": [
    {
     "name": "stdout",
     "output_type": "stream",
     "text": [
      "just right\n"
     ]
    }
   ],
   "source": [
    "#1. Assign the value 7 to the variable guess_me. Then, write the conditional tests (if, else, and elif) to\n",
    "#print the string &#39;too low&#39; if guess_me is less than 7, &#39;too high&#39; if greater than 7, and &#39;just right&#39; if equal\n",
    "#to 7.\n",
    "\n",
    "guess_me= 7\n",
    "if guess_me<7:\n",
    "    print('too low')\n",
    "elif guess_me >7:\n",
    "    print('too high')\n",
    "else:\n",
    "    print('just right')"
   ]
  },
  {
   "cell_type": "code",
   "execution_count": 2,
   "id": "0ac356de",
   "metadata": {},
   "outputs": [
    {
     "name": "stdout",
     "output_type": "stream",
     "text": [
      "too low\n",
      "too low\n",
      "too low\n",
      "too low\n",
      "too low\n",
      "too low\n",
      "found it\n"
     ]
    }
   ],
   "source": [
    "#2. Assign the value 7 to the variable guess_me and the value 1 to the variable start. Write a while\n",
    "#loop that compares start with guess_me. Print too low if start is less than guess me. If start equals\n",
    "#guess_me, print &#39;found it!&#39; and exit the loop. If start is greater than guess_me, print &#39;oops&#39; and exit\n",
    "#the loop. Increment start at the end of the loop.\n",
    "\n",
    "\n",
    "guess_me= 7\n",
    "start=1\n",
    "while True:\n",
    "    if start < guess_me:\n",
    "        print('too low')\n",
    "    elif start== guess_me:\n",
    "        print('found it')\n",
    "        break\n",
    "    elif start> guess_me:\n",
    "        print(\"oops\")\n",
    "        break\n",
    "    start= start+1"
   ]
  },
  {
   "cell_type": "code",
   "execution_count": 3,
   "id": "71d7fcbc",
   "metadata": {},
   "outputs": [
    {
     "name": "stdout",
     "output_type": "stream",
     "text": [
      "3\n",
      "2\n",
      "1\n",
      "0\n"
     ]
    }
   ],
   "source": [
    "#3. Print the following values of the list [3, 2, 1, 0] using a for loop.\n",
    "\n",
    "l=[3, 2, 1, 0]\n",
    "for i in l:\n",
    "    print(i)"
   ]
  },
  {
   "cell_type": "code",
   "execution_count": 5,
   "id": "0b45f330",
   "metadata": {},
   "outputs": [
    {
     "data": {
      "text/plain": [
       "[0, 2, 4, 6, 8, 10]"
      ]
     },
     "execution_count": 5,
     "metadata": {},
     "output_type": "execute_result"
    }
   ],
   "source": [
    "#4. Use a list comprehension to make a list of the even numbers in range(10)\n",
    "\n",
    "even=[]\n",
    "for i in range(0,11):\n",
    "    if i%2==0:\n",
    "        even.append(i)\n",
    "\n",
    "even"
   ]
  },
  {
   "cell_type": "code",
   "execution_count": 6,
   "id": "a1978c2c",
   "metadata": {},
   "outputs": [
    {
     "data": {
      "text/plain": [
       "{0: 0, 1: 1, 2: 4, 3: 9, 4: 16, 5: 25, 6: 36, 7: 49, 8: 64, 9: 81}"
      ]
     },
     "execution_count": 6,
     "metadata": {},
     "output_type": "execute_result"
    }
   ],
   "source": [
    "#5. Use a dictionary comprehension to create the dictionary squares. Use range(10) to return the\n",
    "#keys, and use the square of each key as its value.\n",
    "\n",
    "square = {key: key*key for key in range(10)}\n",
    "square"
   ]
  },
  {
   "cell_type": "code",
   "execution_count": 7,
   "id": "ba08ff6e",
   "metadata": {},
   "outputs": [
    {
     "data": {
      "text/plain": [
       "[1, 3, 5, 7, 9]"
      ]
     },
     "execution_count": 7,
     "metadata": {},
     "output_type": "execute_result"
    }
   ],
   "source": [
    "#6. Construct the set odd from the odd numbers in the range using a set comprehension (10).\n",
    "\n",
    "odd=[]\n",
    "for i in range(0,11):\n",
    "    if i%2!=0:\n",
    "        odd.append(i)\n",
    "\n",
    "odd"
   ]
  },
  {
   "cell_type": "code",
   "execution_count": 8,
   "id": "72d4a432",
   "metadata": {},
   "outputs": [
    {
     "name": "stdout",
     "output_type": "stream",
     "text": [
      "got 0\n",
      "got 1\n",
      "got 2\n",
      "got 3\n",
      "got 4\n",
      "got 5\n",
      "got 6\n",
      "got 7\n",
      "got 8\n",
      "got 9\n",
      "got 10\n"
     ]
    }
   ],
   "source": [
    "#7. Use a generator comprehension to return the string &#39;Got &#39; and a number for the numbers in\n",
    "#range(10). Iterate through this by using a for loop.\n",
    "\n",
    "for i in range(0,11):\n",
    "    print(\"got\", i)"
   ]
  },
  {
   "cell_type": "code",
   "execution_count": 11,
   "id": "d3a7077f",
   "metadata": {},
   "outputs": [
    {
     "data": {
      "text/plain": [
       "['harry', 'ron', 'hermione']"
      ]
     },
     "execution_count": 11,
     "metadata": {},
     "output_type": "execute_result"
    }
   ],
   "source": [
    "#8. Define a function called good that returns the list [&#39;Harry&#39;, &#39;Ron&#39;, &#39;Hermione&#39;].\n",
    "\n",
    "def good():\n",
    "    return['harry', 'ron', 'hermione']\n",
    "\n",
    "good()"
   ]
  },
  {
   "cell_type": "code",
   "execution_count": 13,
   "id": "6089d0f4",
   "metadata": {},
   "outputs": [
    {
     "name": "stdout",
     "output_type": "stream",
     "text": [
      "the third odd number is 5\n"
     ]
    }
   ],
   "source": [
    "#9. Define a generator function called get_odds that returns the odd numbers from range(10). Use a\n",
    "#for loop to find and print the third value returned.\n",
    "\n",
    "def get_odds():\n",
    "    for i in range(1,10,2):\n",
    "        yield i\n",
    "    \n",
    "for count, number in enumerate(get_odds(), 1):\n",
    "    if count ==3:\n",
    "        print(\"the third odd number is\", number)\n",
    "        break"
   ]
  },
  {
   "cell_type": "code",
   "execution_count": null,
   "id": "1b40edef",
   "metadata": {},
   "outputs": [],
   "source": [
    "#10. Define an exception called OopsException. Raise this exception to see what happens. Then write the code to catch this exception and print &#39;Caught an oops&#39;.\n",
    "\n"
   ]
  },
  {
   "cell_type": "code",
   "execution_count": 14,
   "id": "745e358e",
   "metadata": {},
   "outputs": [
    {
     "data": {
      "text/plain": [
       "{'Creature of Habit': 'A nun turns into a monster',\n",
       " 'Crewel Fate': 'A haunted yarn shop'}"
      ]
     },
     "execution_count": 14,
     "metadata": {},
     "output_type": "execute_result"
    }
   ],
   "source": [
    "#11. Use zip() to make a dictionary called movies that pairs these lists: titles = [&#39;Creature of Habit&#39;,\n",
    "#&#39;Crewel Fate&#39;] and plots = [&#39;A nun turns into a monster&#39;, &#39;A haunted yarn shop&#39;].\n",
    "\n",
    "titles = ['Creature of Habit', 'Crewel Fate']\n",
    "plots = ['A nun turns into a monster', 'A haunted yarn shop']\n",
    "movies = dict(zip(titles, plots))\n",
    "movies"
   ]
  },
  {
   "cell_type": "code",
   "execution_count": null,
   "id": "ff4b7b29",
   "metadata": {},
   "outputs": [],
   "source": []
  }
 ],
 "metadata": {
  "kernelspec": {
   "display_name": "Python 3 (ipykernel)",
   "language": "python",
   "name": "python3"
  },
  "language_info": {
   "codemirror_mode": {
    "name": "ipython",
    "version": 3
   },
   "file_extension": ".py",
   "mimetype": "text/x-python",
   "name": "python",
   "nbconvert_exporter": "python",
   "pygments_lexer": "ipython3",
   "version": "3.10.5"
  }
 },
 "nbformat": 4,
 "nbformat_minor": 5
}
