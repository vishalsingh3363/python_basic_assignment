{
 "cells": [
  {
   "cell_type": "code",
   "execution_count": null,
   "id": "60157cc5",
   "metadata": {},
   "outputs": [],
   "source": [
    "1. What are escape characters, and how do you use them?\n",
    "\n",
    "Ans- These are control characters used to move cursor and print characters such as ' , \" . / and etc\n",
    "\n",
    "Escape characters are inserted inside print statement to get desirable outputs\n",
    "\n",
    "example- print(\"welcome to python\") if we want python to get printed in next line then we have to add  escape character (\\n) before python\n",
    "\n",
    "like- print(\"welcome to \\npython\")\n",
    "\n",
    "output-welcome to \n",
    "python\n"
   ]
  },
  {
   "cell_type": "code",
   "execution_count": null,
   "id": "fc654686",
   "metadata": {},
   "outputs": [],
   "source": [
    "2. What do the escape characters n and t stand for?\n",
    "\n",
    "ans- n stands for new line\n",
    "and t stands for new tab"
   ]
  },
  {
   "cell_type": "code",
   "execution_count": null,
   "id": "0d2bd460",
   "metadata": {},
   "outputs": [],
   "source": [
    "3. What is the way to include backslash characters in a string?\n",
    "\n",
    "Ans-3 Use this \\\\"
   ]
  },
  {
   "cell_type": "code",
   "execution_count": null,
   "id": "6a86d72c",
   "metadata": {},
   "outputs": [],
   "source": [
    "4. The string \"Howl's Moving Castle\" is a correct value. Why isn't the single quote character in the\n",
    "word Howl's not escaped a problem?\n",
    "\n",
    "Ans-4 Because the whole sentence is enclosed in double quotes (\"\")"
   ]
  },
  {
   "cell_type": "code",
   "execution_count": null,
   "id": "b7765256",
   "metadata": {},
   "outputs": [],
   "source": [
    "5. How do you write a string of newlines if you don,t want to use the n character?\n",
    "\n",
    "Ans-5 using three quotes \"\"\" write sentence and press enter at the starting of sentence or word you want to have in new line\"\"\""
   ]
  },
  {
   "cell_type": "code",
   "execution_count": null,
   "id": "842c75c1",
   "metadata": {},
   "outputs": [],
   "source": [
    "6. What are the values of the given expressions?\n",
    "'Hello, world!'[1]\n",
    "'Hello, world!'[0:5]\n",
    "'Hello, world!'[:5]\n",
    "'Hello, world!'[3:]\n",
    "\n",
    "Ans-6 'Hello, world!'[1] -- 'e'\n",
    "'Hello, world!'[0:5] -- 'Hello'\n",
    "'Hello, world!'[:5] -- 'Hello'\n",
    "'Hello, world!'[3:] -- 'lo, world!'\n"
   ]
  },
  {
   "cell_type": "code",
   "execution_count": null,
   "id": "302ac867",
   "metadata": {},
   "outputs": [],
   "source": [
    "7. What are the values of the following expressions?\n",
    "'Hello'.upper()\n",
    "'Hello'.upper().isupper()\n",
    "'Hello'.upper().lower()\n",
    "\n",
    "Ans-7 'Hello'.upper() -- 'HELLO'\n",
    "'Hello'.upper().isupper() -- True\n",
    "'Hello'.upper().lower() -- 'hello'"
   ]
  },
  {
   "cell_type": "code",
   "execution_count": null,
   "id": "a0b09ec2",
   "metadata": {},
   "outputs": [],
   "source": [
    "8. What are the values of the following expressions?\n",
    "'Remember, remember, the fifth of July'.split()\n",
    "'-'.join('There can only one.'.split())\n",
    "\n",
    "Ans-8 ['Remember,', 'remember,', 'the', 'fifth', 'of', 'July']\n",
    "\n",
    "'There-can-only-one.'"
   ]
  },
  {
   "cell_type": "code",
   "execution_count": null,
   "id": "95385be7",
   "metadata": {},
   "outputs": [],
   "source": [
    "9. What are the methods for right-justifying, left-justifying, and centering a string?\n",
    "\n",
    "Ans-9  rjust(), ljust(), and center()"
   ]
  },
  {
   "cell_type": "code",
   "execution_count": null,
   "id": "64ab8c56",
   "metadata": {},
   "outputs": [],
   "source": [
    "10. What is the best way to remove whitespace characters from the start or end?\n",
    "\n",
    "Ans-10 using lstrip() and rstrip() method"
   ]
  },
  {
   "cell_type": "code",
   "execution_count": null,
   "id": "de5840e8",
   "metadata": {},
   "outputs": [],
   "source": []
  },
  {
   "cell_type": "code",
   "execution_count": null,
   "id": "ab319d6c",
   "metadata": {},
   "outputs": [],
   "source": []
  }
 ],
 "metadata": {
  "kernelspec": {
   "display_name": "Python 3 (ipykernel)",
   "language": "python",
   "name": "python3"
  },
  "language_info": {
   "codemirror_mode": {
    "name": "ipython",
    "version": 3
   },
   "file_extension": ".py",
   "mimetype": "text/x-python",
   "name": "python",
   "nbconvert_exporter": "python",
   "pygments_lexer": "ipython3",
   "version": "3.9.12"
  }
 },
 "nbformat": 4,
 "nbformat_minor": 5
}
