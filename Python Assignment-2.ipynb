{
 "cells": [
  {
   "cell_type": "code",
   "execution_count": null,
   "id": "af83c590",
   "metadata": {},
   "outputs": [],
   "source": [
    "1.What are the two values of the Boolean data type? How do you write them?\n",
    "\n",
    "Ans-1 Two values of boolean data are True and False, true is considered as 1 and false is considered as 0"
   ]
  },
  {
   "cell_type": "code",
   "execution_count": null,
   "id": "20cab9ce",
   "metadata": {},
   "outputs": [],
   "source": [
    "2. What are the three different types of Boolean operators?\n",
    "Ans-2 The three basic boolean operators are: AND, OR, and NOT.\n",
    "    "
   ]
  },
  {
   "cell_type": "code",
   "execution_count": null,
   "id": "fadfdce2",
   "metadata": {},
   "outputs": [],
   "source": [
    "3. Make a list of each Boolean operator's truth tables (i.e. every possible combination of Boolean\n",
    "values for the operator and what it evaluate ).\n",
    "\n",
    "Ans-3 True and True is True.\n",
    "True and False is False.\n",
    "False and True is False.\n",
    "False and False is False.\n",
    "True or True is True.\n",
    "True or False is True.\n",
    "False or True is True.\n",
    "False or False is False.\n",
    "not True is False.\n",
    "not False is True."
   ]
  },
  {
   "cell_type": "code",
   "execution_count": null,
   "id": "5bb88e63",
   "metadata": {},
   "outputs": [],
   "source": [
    "4. What are the values of the following expressions?\n",
    "(5 > 4) and (3 == 5)- False\n",
    "not (5 > 4)- False\n",
    "(5 > 4) or (3 == 5)- True\n",
    "not ((5 > 4) or (3 == 5))- False\n",
    "(True and True) and (True == False)- False\n",
    "(not False) or (not True)- True"
   ]
  },
  {
   "cell_type": "code",
   "execution_count": null,
   "id": "ec2be3b5",
   "metadata": {},
   "outputs": [],
   "source": [
    "5. What are the six comparison operators?\n",
    "\n",
    "Ans-5 (<  Less than)\n",
    "(> Greater than)\n",
    "(<= less than or equal to)\n",
    "(>= Greater than or equal to)\n",
    "(!= Not equal to)\n",
    "(== compare command)"
   ]
  },
  {
   "cell_type": "code",
   "execution_count": null,
   "id": "68aeab84",
   "metadata": {},
   "outputs": [],
   "source": [
    "6. How do you tell the difference between the equal to and assignment operators?Describe a\n",
    "condition and when you would use one.\n",
    "\n",
    "Ans-6 Assignment operator assign values to a variable, and Equal to is The equality operator is used to compare the values of both the variables.\n",
    "\n",
    "#This is assignment Operator\n",
    "y=x\n",
    "\n",
    "\n",
    "#This is Equal to operator\n",
    "x=10;\n",
    "y=10;\n",
    " \n",
    "if(x==y)\n",
    "    printf(\"True\");\n",
    "else\n",
    "    printf(\"False\");\n"
   ]
  },
  {
   "cell_type": "code",
   "execution_count": null,
   "id": "fe7abf4c",
   "metadata": {},
   "outputs": [],
   "source": [
    "7. Identify the three blocks in this code\n",
    "spam = 0\n",
    "if spam == 10:\n",
    "    print('eggs')\n",
    "\n",
    "    if spam > 5:\n",
    "          print('bacon')\n",
    "\n",
    "else:\n",
    "                print('ham')\n",
    "                print('spam')\n",
    "                print('Spam')\n",
    "                \n",
    "                \n",
    "Ans-7 Three blocks are\n",
    "\n",
    "1.if spam == 10:\n",
    "    print('eggs')\n",
    "    \n",
    "2.if spam > 5:\n",
    "          print('bacon')\n",
    "        \n",
    "3.else:\n",
    "                print('ham')\n",
    "                print('spam')\n",
    "                print('Spam')\n"
   ]
  },
  {
   "cell_type": "code",
   "execution_count": null,
   "id": "1c226ec7",
   "metadata": {},
   "outputs": [],
   "source": [
    "8. Write code that prints Hello if 1 is stored in spam, prints Howdy if 2 is stored in spam, and prints\n",
    "Greetings! if anything else is stored in spam.\n",
    "\n",
    "Ans-8 \n",
    "spam = int(input())\n",
    "if spam==1:\n",
    "    print('Hello')\n",
    "elif spam==2:\n",
    "    print('Howdy')\n",
    "    \n",
    "else:\n",
    "    print('Greetings!')\n",
    "    "
   ]
  },
  {
   "cell_type": "code",
   "execution_count": null,
   "id": "8a98c0a8",
   "metadata": {},
   "outputs": [],
   "source": [
    "9.If your programme is stuck in an endless loop, what keys you’ll press?\n",
    "Ans-9 Press ctrl+c"
   ]
  },
  {
   "cell_type": "code",
   "execution_count": null,
   "id": "7879576f",
   "metadata": {},
   "outputs": [],
   "source": [
    "10. How can you tell the difference between break and continue?\n",
    "\n",
    "Ans-10 Break statement is used to terminate the loop and continue statement is not used to terminate the loop, "
   ]
  },
  {
   "cell_type": "code",
   "execution_count": null,
   "id": "2ce68ecf",
   "metadata": {},
   "outputs": [],
   "source": [
    "11. In a for loop, what is the difference between range(10), range(0, 10), and range(0, 10, 1)?\n",
    "\n",
    "Ans-11 there is no differenve between range(10), range(0, 10), and range(0, 10, 1)"
   ]
  },
  {
   "cell_type": "code",
   "execution_count": null,
   "id": "56d58dee",
   "metadata": {},
   "outputs": [],
   "source": [
    "12. Write a short program that prints the numbers 1 to 10 using a for loop. Then write an equivalent\n",
    "program that prints the numbers 1 to 10 using a while loop.\n",
    "\n",
    "Ans-12\n",
    "FOR LOOP\n",
    "\n",
    "for i in range(1,11):\n",
    "    print(i)\n",
    "\n",
    "    \n",
    "WHILE LOOP\n",
    "\n",
    "i = 1\n",
    "while(i<=10):\n",
    "    print(i)\n",
    "    i += 1\n"
   ]
  },
  {
   "cell_type": "code",
   "execution_count": null,
   "id": "bc4a545c",
   "metadata": {},
   "outputs": [],
   "source": [
    "13. If you had a function named bacon() inside a module named spam, how would you call it after\n",
    "importing spam?\n",
    "\n",
    "Ans-13 spam.bacon()"
   ]
  },
  {
   "cell_type": "code",
   "execution_count": null,
   "id": "e54d1752",
   "metadata": {},
   "outputs": [],
   "source": []
  },
  {
   "cell_type": "code",
   "execution_count": null,
   "id": "be3a7e29",
   "metadata": {},
   "outputs": [],
   "source": []
  },
  {
   "cell_type": "code",
   "execution_count": null,
   "id": "f3bb764f",
   "metadata": {},
   "outputs": [],
   "source": []
  }
 ],
 "metadata": {
  "kernelspec": {
   "display_name": "Python 3 (ipykernel)",
   "language": "python",
   "name": "python3"
  },
  "language_info": {
   "codemirror_mode": {
    "name": "ipython",
    "version": 3
   },
   "file_extension": ".py",
   "mimetype": "text/x-python",
   "name": "python",
   "nbconvert_exporter": "python",
   "pygments_lexer": "ipython3",
   "version": "3.9.12"
  }
 },
 "nbformat": 4,
 "nbformat_minor": 5
}
