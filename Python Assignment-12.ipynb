{
 "cells": [
  {
   "cell_type": "code",
   "execution_count": null,
   "id": "0b529d1c",
   "metadata": {},
   "outputs": [],
   "source": [
    "1. In what modes should the PdfFileReader() and PdfFileWriter() File objects will be opened?\n",
    "\n",
    "Ans-1 for reader use 'rb' - read binary\n",
    "for writer use 'wb' - write binary"
   ]
  },
  {
   "cell_type": "code",
   "execution_count": null,
   "id": "def6dff6",
   "metadata": {},
   "outputs": [],
   "source": [
    "2. From a PdfFileReader object, how do you get a Page object for page 5?\n",
    "\n",
    "Ans-2 by typing and executing getpage(4)"
   ]
  },
  {
   "cell_type": "code",
   "execution_count": null,
   "id": "981c8348",
   "metadata": {},
   "outputs": [],
   "source": [
    "3. What PdfFileReader variable stores the number of pages in the PDF document?\n",
    "\n",
    "Ans-3 NUMPAGES use to store the number of pages in pdf documnet"
   ]
  },
  {
   "cell_type": "code",
   "execution_count": null,
   "id": "e65bcd1c",
   "metadata": {},
   "outputs": [],
   "source": [
    "4. If a PdfFileReader object’s PDF is encrypted with the password swordfish, what must you do\n",
    "before you can obtain Page objects from it?\n",
    "\n",
    "Ans-4 Before we obtain the page object, the pdf has to be decrypted by calling .decrypt('swordfish')"
   ]
  },
  {
   "cell_type": "code",
   "execution_count": null,
   "id": "54b7eeb4",
   "metadata": {},
   "outputs": [],
   "source": [
    "5. What methods do you use to rotate a page?\n",
    "\n",
    "Ans-5 rotateClockwise() and rotateCounterClockwise() "
   ]
  },
  {
   "cell_type": "code",
   "execution_count": null,
   "id": "6337edcf",
   "metadata": {},
   "outputs": [],
   "source": [
    "6. What is the difference between a Run object and a Paragraph object?\n",
    "\n",
    "Ans-6 A run is the object most closely associated with inline content; text, pictures, and other items that are flowed between the block-item boundaries within a paragraph."
   ]
  },
  {
   "cell_type": "code",
   "execution_count": null,
   "id": "3090ce08",
   "metadata": {},
   "outputs": [],
   "source": [
    "7. How do you obtain a list of Paragraph objects for a Document object that’s stored in a variable\n",
    "named doc?\n",
    "Ans-7 \n",
    "!pip install python-docx\n",
    "import docx\n",
    "doc = docx.Document('abc.docx')\n",
    "doc.paragraphs"
   ]
  },
  {
   "cell_type": "code",
   "execution_count": null,
   "id": "41b0f930",
   "metadata": {},
   "outputs": [],
   "source": [
    "8. What type of object has bold, underline, italic, strike, and outline variables?\n",
    "\n",
    "Ans-8 run object"
   ]
  },
  {
   "cell_type": "code",
   "execution_count": null,
   "id": "36f2701e",
   "metadata": {},
   "outputs": [],
   "source": [
    "9. What is the difference between False, True, and None for the bold variable?\n",
    "\n",
    "Ans-9 \n",
    "\n",
    "True always makes the Run object bolded \n",
    "False makes it always not bolded, no matter what the style’s bold setting is. \n",
    "None will make the Run object just use the style’s bold setting"
   ]
  },
  {
   "cell_type": "code",
   "execution_count": null,
   "id": "a0f7ccf4",
   "metadata": {},
   "outputs": [],
   "source": [
    "10. How do you create a Document object for a new Word document?\n",
    "\n",
    "Ans-10 docx.Document() "
   ]
  },
  {
   "cell_type": "code",
   "execution_count": null,
   "id": "a4d16d9c",
   "metadata": {},
   "outputs": [],
   "source": [
    "11. How do you add a paragraph with the text 'Hello, there!'to a Document object stored in a\n",
    "variable named doc?\n",
    "\n",
    "Ans-11 \n",
    "import docx\n",
    "doc = docx.Document()\n",
    "doc.add_paragraph('Hello there!')\n",
    "doc.save('hellothere.docx')"
   ]
  },
  {
   "cell_type": "code",
   "execution_count": null,
   "id": "327f838d",
   "metadata": {},
   "outputs": [],
   "source": [
    "12. What integers represent the levels of headings available in Word documents?\n",
    "\n",
    "Ans-12 integer 0-4"
   ]
  },
  {
   "cell_type": "code",
   "execution_count": null,
   "id": "93008e0e",
   "metadata": {},
   "outputs": [],
   "source": []
  }
 ],
 "metadata": {
  "kernelspec": {
   "display_name": "Python 3 (ipykernel)",
   "language": "python",
   "name": "python3"
  },
  "language_info": {
   "codemirror_mode": {
    "name": "ipython",
    "version": 3
   },
   "file_extension": ".py",
   "mimetype": "text/x-python",
   "name": "python",
   "nbconvert_exporter": "python",
   "pygments_lexer": "ipython3",
   "version": "3.9.12"
  }
 },
 "nbformat": 4,
 "nbformat_minor": 5
}
